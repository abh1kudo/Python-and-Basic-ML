{
 "cells": [
  {
   "cell_type": "code",
   "execution_count": 1,
   "metadata": {},
   "outputs": [],
   "source": [
    "import numpy as np\n",
    "import matplotlib.pyplot as plt\n",
    "from sklearn.decomposition import PCA"
   ]
  },
  {
   "cell_type": "code",
   "execution_count": 8,
   "metadata": {},
   "outputs": [],
   "source": [
    "x1 = np.array([1,2,3,4,5,6])\n",
    "x2 = np.array([7.5,11,16,18,20,26])"
   ]
  },
  {
   "cell_type": "code",
   "execution_count": 9,
   "metadata": {},
   "outputs": [
    {
     "data": {
      "image/png": "[encoded data removed]",
      "text/plain": [
       "<Figure size 432x288 with 1 Axes>"
      ]
     },
     "metadata": {
      "needs_background": "light"
     },
     "output_type": "display_data"
    }
   ],
   "source": [
    "plt.scatter(x1,x2)\n",
    "plt.show()"
   ]
  },
  {
   "cell_type": "code",
   "execution_count": 10,
   "metadata": {},
   "outputs": [
    {
     "name": "stdout",
     "output_type": "stream",
     "text": [
      "[[ 1.   7.5]\n",
      " [ 2.  11. ]\n",
      " [ 3.  16. ]\n",
      " [ 4.  18. ]\n",
      " [ 5.  20. ]\n",
      " [ 6.  26. ]]\n"
     ]
    }
   ],
   "source": [
    "#Now we will combine them into a single 2d array (with each element as 1 row)\n",
    "X = np.c_[x1,x2]\n",
    "print(X)"
   ]
  },
  {
   "cell_type": "code",
   "execution_count": 11,
   "metadata": {},
   "outputs": [
    {
     "name": "stdout",
     "output_type": "stream",
     "text": [
      "[[-9.26049952e+00  9.65263430e-03]\n",
      " [-5.62047228e+00  2.38560598e-02]\n",
      " [-5.36562171e-01 -3.68391297e-01]\n",
      " [ 1.65958219e+00  5.22629108e-02]\n",
      " [ 3.85572654e+00  4.72917119e-01]\n",
      " [ 9.90222524e+00 -1.90297426e-01]]\n"
     ]
    }
   ],
   "source": [
    "algo = PCA()\n",
    "#algo.fit(X) #for fitting\n",
    "X_trans = algo.fit_transform(X) #to fit and return the modified data\n",
    "print(X_trans)"
   ]
  },
  {
   "cell_type": "code",
   "execution_count": 12,
   "metadata": {},
   "outputs": [
    {
     "name": "stdout",
     "output_type": "stream",
     "text": [
      "[[ 0.27096719  0.96258858]\n",
      " [ 0.96258858 -0.27096719]]\n"
     ]
    }
   ],
   "source": [
    "#to have a look at the directions as comprehended by PCA\n",
    "print(algo.components_)"
   ]
  },
  {
   "cell_type": "markdown",
   "metadata": {},
   "source": [
    "The number of rows show the number of directions and then each row gives the new unit vectors as defined in old system"
   ]
  },
  {
   "cell_type": "code",
   "execution_count": 13,
   "metadata": {},
   "outputs": [
    {
     "name": "stdout",
     "output_type": "stream",
     "text": [
      "[[-9.26049952]\n",
      " [-5.62047228]\n",
      " [-0.53656217]\n",
      " [ 1.65958219]\n",
      " [ 3.85572654]\n",
      " [ 9.90222524]]\n"
     ]
    }
   ],
   "source": [
    "#We can also define how many number of components we want to keep\n",
    "algo1 = PCA(n_components=1)\n",
    "X_trans2 = algo1.fit_transform(X)\n",
    "print(X_trans2)"
   ]
  },
  {
   "cell_type": "code",
   "execution_count": 14,
   "metadata": {},
   "outputs": [
    {
     "name": "stdout",
     "output_type": "stream",
     "text": [
      "[[0.27096719 0.96258858]]\n"
     ]
    }
   ],
   "source": [
    "print(algo1.components_)"
   ]
  },
  {
   "cell_type": "code",
   "execution_count": 18,
   "metadata": {},
   "outputs": [
    {
     "name": "stdout",
     "output_type": "stream",
     "text": [
      "[[ 1.   7.5]\n",
      " [ 2.  11. ]\n",
      " [ 3.  16. ]\n",
      " [ 4.  18. ]\n",
      " [ 5.  20. ]\n",
      " [ 6.  26. ]]\n"
     ]
    },
    {
     "data": {
      "text/plain": [
       "'However this is only possible for the case when we\\nkeep the dimensions of the data same ie n_components\\nis same as original'"
      ]
     },
     "execution_count": 18,
     "metadata": {},
     "output_type": "execute_result"
    }
   ],
   "source": [
    "#there is a way to get back the exact original data\n",
    "#from the modified data\n",
    "print(algo.inverse_transform(X_trans))\n",
    "\"\"\"However this is only possible for the case when we\n",
    "keep the dimensions of the data same ie n_components\n",
    "is same as original\"\"\""
   ]
  },
  {
   "cell_type": "code",
   "execution_count": 20,
   "metadata": {},
   "outputs": [
    {
     "name": "stdout",
     "output_type": "stream",
     "text": [
      "[[ 0.99070848  7.50261555]\n",
      " [ 1.97703643 11.00646421]\n",
      " [ 3.35460926 15.90017805]\n",
      " [ 3.94969232 18.01416153]\n",
      " [ 4.54477538 20.12814502]\n",
      " [ 6.18317813 25.94843564]]\n"
     ]
    }
   ],
   "source": [
    "#if there was a loss of dimensions , then we can get\n",
    "#almost the same data not exact as there wil be some\n",
    "#data loss\n",
    "X_approx = algo1.inverse_transform(X_trans2)\n",
    "print(algo1.inverse_transform(X_trans2))"
   ]
  },
  {
   "cell_type": "code",
   "execution_count": 24,
   "metadata": {},
   "outputs": [
    {
     "data": {
      "image/png": "[encoded data removed]",
      "text/plain": [
       "<Figure size 432x288 with 1 Axes>"
      ]
     },
     "metadata": {
      "needs_background": "light"
     },
     "output_type": "display_data"
    }
   ],
   "source": [
    "plt.scatter(X_approx[:,0], X_approx[:,1], color= \"Red\")\n",
    "#plt.scatter(X[:,0], X[:,1], color= \"Blue\") \n",
    "plt.show()\n",
    "\n",
    "#See how the red points are in an actual line"
   ]
  },
  {
   "cell_type": "code",
   "execution_count": 26,
   "metadata": {},
   "outputs": [
    {
     "data": {
      "image/png": "[encoded data removed]",
      "text/plain": [
       "<Figure size 432x288 with 1 Axes>"
      ]
     },
     "metadata": {
      "needs_background": "light"
     },
     "output_type": "display_data"
    }
   ],
   "source": [
    "plt.scatter(X_approx[:,0], X_approx[:,1], color= \"Red\")\n",
    "plt.scatter(X[:,0], X[:,1], color= \"Blue\") \n",
    "plt.show()"
   ]
  }
 ],
 "metadata": {
  "kernelspec": {
   "display_name": "Python 3",
   "language": "python",
   "name": "python3"
  },
  "language_info": {
   "codemirror_mode": {
    "name": "ipython",
    "version": 3
   },
   "file_extension": ".py",
   "mimetype": "text/x-python",
   "name": "python",
   "nbconvert_exporter": "python",
   "pygments_lexer": "ipython3",
   "version": "3.7.1"
  }
 },
 "nbformat": 4,
 "nbformat_minor": 2
}
