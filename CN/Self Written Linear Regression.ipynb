{
 "cells": [
  {
   "cell_type": "code",
   "execution_count": 60,
   "metadata": {},
   "outputs": [],
   "source": [
    "#now we will code our own linear regression , this will have some functions \n",
    "# predict function , score function ,cost function , fit function\n",
    "import numpy as np"
   ]
  },
  {
   "cell_type": "code",
   "execution_count": 61,
   "metadata": {},
   "outputs": [],
   "source": [
    "data = np.loadtxt(\"C:\\Abhinav\\Course\\CN\\Downloaded NB\\Linear Regression\\data.csv\", delimiter = \",\") #by default delimiter is space\n",
    "\n",
    "#data.shape() gives (100,2)\n",
    "\n",
    "x = data[:,0] #this is done to make it a 2d array as sklearn doesnt accept 1d array for features\n",
    "y = data[:,1]"
   ]
  },
  {
   "cell_type": "code",
   "execution_count": 62,
   "metadata": {},
   "outputs": [],
   "source": [
    "def fitfunc(x,y): #this is xtrain and ytrain np arrays\n",
    "    #print((x*y).mean())\n",
    "    print(x.mean(), y.mean(), (x*x).mean(), (x*y).mean())\n",
    "    m = ((x*y).mean() - x.mean()*y.mean())/((x*x).mean()-x.mean()*x.mean())\n",
    "    #print(m)\n",
    "    c = y.mean() - m*(x.mean())\n",
    "    return m , c"
   ]
  },
  {
   "cell_type": "code",
   "execution_count": 63,
   "metadata": {},
   "outputs": [],
   "source": [
    "def pred (x,m,c): # we have calculated the values of m,c from fit function , then we use for predicting new array for test data\n",
    "    y = m*x+c\n",
    "    return y"
   ]
  },
  {
   "cell_type": "code",
   "execution_count": 74,
   "metadata": {},
   "outputs": [],
   "source": [
    "def cost (x,y,m,c): #this is used to calculate mean squared error\n",
    "    ypred = pred(x,m,c)\n",
    "    ypred = (ypred - y)**2\n",
    "    costsum = ypred.mean()\n",
    "    return costsum"
   ]
  },
  {
   "cell_type": "code",
   "execution_count": 65,
   "metadata": {},
   "outputs": [],
   "source": [
    "def scorefunc(ypred,ytrue):\n",
    "    u = ((ypred - ytrue)**2).sum()\n",
    "    v = ((ytrue - ytrue.mean())**2).sum()\n",
    "    return 1 - (u/v)"
   ]
  },
  {
   "cell_type": "code",
   "execution_count": 76,
   "metadata": {},
   "outputs": [],
   "source": [
    "from sklearn import model_selection\n",
    "x_train,x_test,y_train,y_test = model_selection.train_test_split(x,y) #75% split by default"
   ]
  },
  {
   "cell_type": "code",
   "execution_count": 77,
   "metadata": {},
   "outputs": [
    {
     "name": "stdout",
     "output_type": "stream",
     "text": [
      "49.40898929389282 73.17458432026513 2539.6885513420484 3739.628291522056\n",
      "1.2611298682503407 10.863432161675576\n"
     ]
    }
   ],
   "source": [
    "slope,intercept = fitfunc(x_train,y_train)\n",
    "print(slope,intercept)"
   ]
  },
  {
   "cell_type": "code",
   "execution_count": 78,
   "metadata": {},
   "outputs": [],
   "source": [
    "y_pred = pred(x_test,slope,intercept)\n",
    "#print(y_pred)"
   ]
  },
  {
   "cell_type": "code",
   "execution_count": 79,
   "metadata": {},
   "outputs": [
    {
     "name": "stdout",
     "output_type": "stream",
     "text": [
      "108.89706684038325\n"
     ]
    }
   ],
   "source": [
    "costval =  cost(x_test,y_test,slope,intercept)\n",
    "print(costval)"
   ]
  },
  {
   "cell_type": "code",
   "execution_count": 80,
   "metadata": {},
   "outputs": [
    {
     "name": "stdout",
     "output_type": "stream",
     "text": [
      "0.6286640258219929\n",
      "0.5847003322877742\n"
     ]
    }
   ],
   "source": [
    "ypred = pred(x_test,slope,intercept)\n",
    "scoreval =  scorefunc(ypred,y_test)\n",
    "print(scoreval)\n",
    "ypredtrain =  pred(x_train,slope,intercept)\n",
    "scoreontrain =  scorefunc(ypredtrain,y_train)\n",
    "print(scoreontrain)"
   ]
  },
  {
   "cell_type": "code",
   "execution_count": 81,
   "metadata": {},
   "outputs": [
    {
     "name": "stdout",
     "output_type": "stream",
     "text": [
      "1.2611298682503407 10.863432161675576\n"
     ]
    },
    {
     "data": {
      "image/png": "[encoded data removed]",
      "text/plain": [
       "<Figure size 432x288 with 1 Axes>"
      ]
     },
     "metadata": {
      "needs_background": "light"
     },
     "output_type": "display_data"
    }
   ],
   "source": [
    "import matplotlib.pyplot as plt\n",
    "plt.scatter(x_train,y_train)\n",
    "x_line = np.arange(30,70,0.1)\n",
    "#print(x_line)\n",
    "print(slope,intercept)\n",
    "y_line = (slope*x_line) + intercept\n",
    "#print(y_line)\n",
    "plt.plot(x_line,y_line,color = \"red\")\n",
    "plt.show()"
   ]
  }
 ],
 "metadata": {
  "kernelspec": {
   "display_name": "Python 3",
   "language": "python",
   "name": "python3"
  },
  "language_info": {
   "codemirror_mode": {
    "name": "ipython",
    "version": 3
   },
   "file_extension": ".py",
   "mimetype": "text/x-python",
   "name": "python",
   "nbconvert_exporter": "python",
   "pygments_lexer": "ipython3",
   "version": "3.7.0"
  }
 },
 "nbformat": 4,
 "nbformat_minor": 2
}
