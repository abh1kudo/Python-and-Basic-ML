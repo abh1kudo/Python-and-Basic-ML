{
 "cells": [
  {
   "cell_type": "code",
   "execution_count": 1,
   "metadata": {},
   "outputs": [],
   "source": [
    "from sklearn import svm , datasets\n",
    "import numpy as np\n",
    "from sklearn.model_selection import train_test_split\n",
    "import matplotlib.pyplot as plt"
   ]
  },
  {
   "cell_type": "code",
   "execution_count": 2,
   "metadata": {},
   "outputs": [],
   "source": [
    "db = datasets.load_iris()\n",
    "x = db.data\n",
    "y = db.target"
   ]
  },
  {
   "cell_type": "code",
   "execution_count": 7,
   "metadata": {},
   "outputs": [
    {
     "name": "stdout",
     "output_type": "stream",
     "text": [
      "(112, 4) (112,) (38, 4) (38,)\n"
     ]
    }
   ],
   "source": [
    "x_train , x_test , y_train , y_test = train_test_split(x,y)\n",
    "print(x_train.shape, y_train.shape, x_test.shape, y_test.shape)"
   ]
  },
  {
   "cell_type": "code",
   "execution_count": 9,
   "metadata": {},
   "outputs": [
    {
     "name": "stderr",
     "output_type": "stream",
     "text": [
      "/home/abh1kudo/anaconda3/lib/python3.7/site-packages/sklearn/svm/base.py:196: FutureWarning: The default value of gamma will change from 'auto' to 'scale' in version 0.22 to account better for unscaled features. Set gamma explicitly to 'auto' or 'scale' to avoid this warning.\n",
      "  \"avoid this warning.\", FutureWarning)\n"
     ]
    },
    {
     "data": {
      "text/plain": [
       "SVC(C=1.0, cache_size=200, class_weight=None, coef0=0.0,\n",
       "  decision_function_shape='ovr', degree=3, gamma='auto_deprecated',\n",
       "  kernel='rbf', max_iter=-1, probability=False, random_state=None,\n",
       "  shrinking=True, tol=0.001, verbose=False)"
      ]
     },
     "execution_count": 9,
     "metadata": {},
     "output_type": "execute_result"
    }
   ],
   "source": [
    "algo = svm.SVC()\n",
    "algo.fit(x_train, y_train)\n",
    "#svc uses one vs one scheme in multiclass\n",
    "#linearsvc uses one vs rest scheme"
   ]
  },
  {
   "cell_type": "code",
   "execution_count": 11,
   "metadata": {},
   "outputs": [
    {
     "name": "stdout",
     "output_type": "stream",
     "text": [
      "0.9821428571428571\n",
      "0.9473684210526315\n"
     ]
    }
   ],
   "source": [
    "print(algo.score(x_train,y_train))\n",
    "print(algo.score(x_test,y_test))"
   ]
  },
  {
   "cell_type": "code",
   "execution_count": 12,
   "metadata": {},
   "outputs": [],
   "source": [
    "# Now we will try to plot the decision boundary ... we need to make a grid \n",
    "\n",
    "def makegrid(x1, x2 , h=0.02):\n",
    "    x1_min , x1_max = x1.min()-1 , x1.max()+1\n",
    "    x2_min, x2_max = x2.min()-1 , x2.max()+1\n",
    "    a = np.arange(x1_min, x1_max, h)\n",
    "    b = np.arange(x2_min, x2_max, h)\n",
    "    xx, yy = np.meshgrid(a,b)\n",
    "    return xx, yy\n"
   ]
  },
  {
   "cell_type": "code",
   "execution_count": 20,
   "metadata": {},
   "outputs": [
    {
     "name": "stdout",
     "output_type": "stream",
     "text": [
      "(112, 2) (112,) (38, 2) (38,)\n",
      "0.8571428571428571\n",
      "0.7368421052631579\n"
     ]
    },
    {
     "name": "stderr",
     "output_type": "stream",
     "text": [
      "/home/abh1kudo/anaconda3/lib/python3.7/site-packages/sklearn/svm/base.py:196: FutureWarning: The default value of gamma will change from 'auto' to 'scale' in version 0.22 to account better for unscaled features. Set gamma explicitly to 'auto' or 'scale' to avoid this warning.\n",
      "  \"avoid this warning.\", FutureWarning)\n"
     ]
    }
   ],
   "source": [
    "#Since we can only see in 2D , hence we reduce dimensions of data\n",
    "x = db.data[:,0:2]\n",
    "y = db.target\n",
    "x_train , x_test , y_train , y_test = train_test_split(x,y)\n",
    "print(x_train.shape, y_train.shape, x_test.shape, y_test.shape)\n",
    "algo = svm.SVC()\n",
    "algo.fit(x_train, y_train)\n",
    "print(algo.score(x_train,y_train))\n",
    "print(algo.score(x_test,y_test))"
   ]
  },
  {
   "cell_type": "code",
   "execution_count": 21,
   "metadata": {},
   "outputs": [
    {
     "name": "stdout",
     "output_type": "stream",
     "text": [
      "(array([[0.  , 0.02, 0.04, ..., 3.94, 3.96, 3.98],\n",
      "       [0.  , 0.02, 0.04, ..., 3.94, 3.96, 3.98],\n",
      "       [0.  , 0.02, 0.04, ..., 3.94, 3.96, 3.98],\n",
      "       ...,\n",
      "       [0.  , 0.02, 0.04, ..., 3.94, 3.96, 3.98],\n",
      "       [0.  , 0.02, 0.04, ..., 3.94, 3.96, 3.98],\n",
      "       [0.  , 0.02, 0.04, ..., 3.94, 3.96, 3.98]]), array([[1.  , 1.  , 1.  , ..., 1.  , 1.  , 1.  ],\n",
      "       [1.02, 1.02, 1.02, ..., 1.02, 1.02, 1.02],\n",
      "       [1.04, 1.04, 1.04, ..., 1.04, 1.04, 1.04],\n",
      "       ...,\n",
      "       [5.94, 5.94, 5.94, ..., 5.94, 5.94, 5.94],\n",
      "       [5.96, 5.96, 5.96, ..., 5.96, 5.96, 5.96],\n",
      "       [5.98, 5.98, 5.98, ..., 5.98, 5.98, 5.98]]))\n"
     ]
    }
   ],
   "source": [
    "x1samp = np.array([1,3])\n",
    "x2samp = np.array([2,5])\n",
    "print(makegrid(x1samp , x2samp))"
   ]
  },
  {
   "cell_type": "code",
   "execution_count": 22,
   "metadata": {},
   "outputs": [
    {
     "data": {
      "image/png": "[encoded data removed]",
      "text/plain": [
       "<Figure size 432x288 with 1 Axes>"
      ]
     },
     "metadata": {
      "needs_background": "light"
     },
     "output_type": "display_data"
    }
   ],
   "source": [
    "xx , yy = makegrid(x[:, 0], x[:, 1])\n",
    "predictions = algo.predict(np.c_[xx.ravel(), yy.ravel()])\n",
    "plt.scatter(xx.ravel(), yy.ravel(), c = predictions)\n",
    "plt.show()"
   ]
  },
  {
   "cell_type": "code",
   "execution_count": 17,
   "metadata": {},
   "outputs": [
    {
     "name": "stdout",
     "output_type": "stream",
     "text": [
      "(112, 2) (112,) (38, 2) (38,)\n",
      "0.8035714285714286\n",
      "0.9210526315789473\n"
     ]
    }
   ],
   "source": [
    "#Now we try Linear \n",
    "#Since we can only see in 2D , hence we reduce dimensions of data\n",
    "x = db.data[:,0:2]\n",
    "y = db.target\n",
    "x_train , x_test , y_train , y_test = train_test_split(x,y)\n",
    "print(x_train.shape, y_train.shape, x_test.shape, y_test.shape)\n",
    "algo = svm.SVC(kernel = 'linear')\n",
    "algo.fit(x_train, y_train)\n",
    "print(algo.score(x_train,y_train))\n",
    "print(algo.score(x_test,y_test))"
   ]
  },
  {
   "cell_type": "code",
   "execution_count": 19,
   "metadata": {},
   "outputs": [
    {
     "data": {
      "image/png": "[encoded data removed]",
      "text/plain": [
       "<Figure size 432x288 with 1 Axes>"
      ]
     },
     "metadata": {
      "needs_background": "light"
     },
     "output_type": "display_data"
    }
   ],
   "source": [
    "xx , yy = makegrid(x[:, 0], x[:, 1])\n",
    "predictions = algo.predict(np.c_[xx.ravel(), yy.ravel()])\n",
    "plt.scatter(xx.ravel(), yy.ravel(), c = predictions)\n",
    "plt.show()"
   ]
  }
 ],
 "metadata": {
  "kernelspec": {
   "display_name": "Python 3",
   "language": "python",
   "name": "python3"
  },
  "language_info": {
   "codemirror_mode": {
    "name": "ipython",
    "version": 3
   },
   "file_extension": ".py",
   "mimetype": "text/x-python",
   "name": "python",
   "nbconvert_exporter": "python",
   "pygments_lexer": "ipython3",
   "version": "3.7.1"
  }
 },
 "nbformat": 4,
 "nbformat_minor": 2
}
