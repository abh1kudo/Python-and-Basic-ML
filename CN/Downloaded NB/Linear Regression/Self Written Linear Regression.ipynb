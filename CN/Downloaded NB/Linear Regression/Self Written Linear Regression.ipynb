{
 "cells": [
  {
   "cell_type": "code",
   "execution_count": 40,
   "metadata": {},
   "outputs": [],
   "source": [
    "#now we will code our own linear regression , this will have some functions \n",
    "# predict function , score function ,cost function , fit function\n",
    "import numpy as np"
   ]
  },
  {
   "cell_type": "code",
   "execution_count": 41,
   "metadata": {},
   "outputs": [],
   "source": [
    "data = np.loadtxt(\"C:\\Abhinav\\Course\\CN\\Downloaded NB\\Linear Regression\\data.csv\", delimiter = \",\") #by default delimiter is space\n",
    "\n",
    "#data.shape() gives (100,2)\n",
    "\n",
    "x = data[:,0].reshape(-1,1) #this is done to make it a 2d array as sklearn doesnt accept 1d array for features\n",
    "y = data[:,1]"
   ]
  },
  {
   "cell_type": "code",
   "execution_count": 42,
   "metadata": {},
   "outputs": [],
   "source": [
    "def fitfunc(x,y): #this is xtrain and ytrain np arrays\n",
    "    #print((x*y).mean())\n",
    "    print(x.mean(), y.mean(), (x*x).mean(), (x*y).mean())\n",
    "    m = ((x*y).mean() - x.mean()*y.mean())/((x*x).mean()-x.mean()*x.mean())\n",
    "    #print(m)\n",
    "    c = y.mean() - m*(x.mean())\n",
    "    return m , c"
   ]
  },
  {
   "cell_type": "code",
   "execution_count": 43,
   "metadata": {},
   "outputs": [],
   "source": [
    "def pred (x,m,c): # we have calculated the values of m,c from fit function , then we use for predicting new array for test data\n",
    "    y = m*x+c\n",
    "    return y"
   ]
  },
  {
   "cell_type": "code",
   "execution_count": 44,
   "metadata": {},
   "outputs": [],
   "source": [
    "def cost (x,y,m,c): #this is used to calculate sum of squared error\n",
    "    ypred = pred(x,m,c)\n",
    "    ypred = (ypred - y)**2\n",
    "    costsum = ypred.sum()\n",
    "    return costsum"
   ]
  },
  {
   "cell_type": "code",
   "execution_count": 45,
   "metadata": {},
   "outputs": [],
   "source": [
    "def scorefunc(ypred,ytrue):\n",
    "    u = ((ypred - ytrue)**2).sum()\n",
    "    v = ((ytrue - ytrue.mean())**2).sum()\n",
    "    return 1 - (u/v)"
   ]
  },
  {
   "cell_type": "code",
   "execution_count": 57,
   "metadata": {},
   "outputs": [],
   "source": [
    "from sklearn import model_selection\n",
    "x_train,x_test,y_train,y_test = model_selection.train_test_split(x,y) #75% split by default"
   ]
  },
  {
   "cell_type": "code",
   "execution_count": 58,
   "metadata": {},
   "outputs": [
    {
     "name": "stdout",
     "output_type": "stream",
     "text": [
      "48.4395922987752 71.9187350524924 2429.7870650806713 3483.714204586366\n",
      "1.6359198707334237e-14 71.9187350524916\n"
     ]
    }
   ],
   "source": [
    "slope,intercept = fitfunc(x_train,y_train)\n",
    "print(slope,intercept)"
   ]
  },
  {
   "cell_type": "code",
   "execution_count": 48,
   "metadata": {},
   "outputs": [],
   "source": [
    "y_pred = pred(x_test,slope,intercept)\n",
    "#print(y_pred)"
   ]
  },
  {
   "cell_type": "code",
   "execution_count": 49,
   "metadata": {},
   "outputs": [
    {
     "name": "stdout",
     "output_type": "stream",
     "text": [
      "140613.10447545463\n"
     ]
    }
   ],
   "source": [
    "costval =  cost(x_test,y_test,slope,intercept)\n",
    "print(costval)"
   ]
  },
  {
   "cell_type": "code",
   "execution_count": 50,
   "metadata": {},
   "outputs": [
    {
     "name": "stdout",
     "output_type": "stream",
     "text": [
      "-25.075566475090646\n"
     ]
    }
   ],
   "source": [
    "ypred = pred(x_test,slope,intercept)\n",
    "scoreval =  scorefunc(ypred,y_test)\n",
    "print(scoreval)"
   ]
  },
  {
   "cell_type": "code",
   "execution_count": 52,
   "metadata": {},
   "outputs": [
    {
     "name": "stdout",
     "output_type": "stream",
     "text": [
      "[30.  30.1 30.2 30.3 30.4 30.5 30.6 30.7 30.8 30.9 31.  31.1 31.2 31.3\n",
      " 31.4 31.5 31.6 31.7 31.8 31.9 32.  32.1 32.2 32.3 32.4 32.5 32.6 32.7\n",
      " 32.8 32.9 33.  33.1 33.2 33.3 33.4 33.5 33.6 33.7 33.8 33.9 34.  34.1\n",
      " 34.2 34.3 34.4 34.5 34.6 34.7 34.8 34.9 35.  35.1 35.2 35.3 35.4 35.5\n",
      " 35.6 35.7 35.8 35.9 36.  36.1 36.2 36.3 36.4 36.5 36.6 36.7 36.8 36.9\n",
      " 37.  37.1 37.2 37.3 37.4 37.5 37.6 37.7 37.8 37.9 38.  38.1 38.2 38.3\n",
      " 38.4 38.5 38.6 38.7 38.8 38.9 39.  39.1 39.2 39.3 39.4 39.5 39.6 39.7\n",
      " 39.8 39.9 40.  40.1 40.2 40.3 40.4 40.5 40.6 40.7 40.8 40.9 41.  41.1\n",
      " 41.2 41.3 41.4 41.5 41.6 41.7 41.8 41.9 42.  42.1 42.2 42.3 42.4 42.5\n",
      " 42.6 42.7 42.8 42.9 43.  43.1 43.2 43.3 43.4 43.5 43.6 43.7 43.8 43.9\n",
      " 44.  44.1 44.2 44.3 44.4 44.5 44.6 44.7 44.8 44.9 45.  45.1 45.2 45.3\n",
      " 45.4 45.5 45.6 45.7 45.8 45.9 46.  46.1 46.2 46.3 46.4 46.5 46.6 46.7\n",
      " 46.8 46.9 47.  47.1 47.2 47.3 47.4 47.5 47.6 47.7 47.8 47.9 48.  48.1\n",
      " 48.2 48.3 48.4 48.5 48.6 48.7 48.8 48.9 49.  49.1 49.2 49.3 49.4 49.5\n",
      " 49.6 49.7 49.8 49.9 50.  50.1 50.2 50.3 50.4 50.5 50.6 50.7 50.8 50.9\n",
      " 51.  51.1 51.2 51.3 51.4 51.5 51.6 51.7 51.8 51.9 52.  52.1 52.2 52.3\n",
      " 52.4 52.5 52.6 52.7 52.8 52.9 53.  53.1 53.2 53.3 53.4 53.5 53.6 53.7\n",
      " 53.8 53.9 54.  54.1 54.2 54.3 54.4 54.5 54.6 54.7 54.8 54.9 55.  55.1\n",
      " 55.2 55.3 55.4 55.5 55.6 55.7 55.8 55.9 56.  56.1 56.2 56.3 56.4 56.5\n",
      " 56.6 56.7 56.8 56.9 57.  57.1 57.2 57.3 57.4 57.5 57.6 57.7 57.8 57.9\n",
      " 58.  58.1 58.2 58.3 58.4 58.5 58.6 58.7 58.8 58.9 59.  59.1 59.2 59.3\n",
      " 59.4 59.5 59.6 59.7 59.8 59.9 60.  60.1 60.2 60.3 60.4 60.5 60.6 60.7\n",
      " 60.8 60.9 61.  61.1 61.2 61.3 61.4 61.5 61.6 61.7 61.8 61.9 62.  62.1\n",
      " 62.2 62.3 62.4 62.5 62.6 62.7 62.8 62.9 63.  63.1 63.2 63.3 63.4 63.5\n",
      " 63.6 63.7 63.8 63.9 64.  64.1 64.2 64.3 64.4 64.5 64.6 64.7 64.8 64.9\n",
      " 65.  65.1 65.2 65.3 65.4 65.5 65.6 65.7 65.8 65.9 66.  66.1 66.2 66.3\n",
      " 66.4 66.5 66.6 66.7 66.8 66.9 67.  67.1 67.2 67.3 67.4 67.5 67.6 67.7\n",
      " 67.8 67.9 68.  68.1 68.2 68.3 68.4 68.5 68.6 68.7 68.8 68.9 69.  69.1\n",
      " 69.2 69.3 69.4 69.5 69.6 69.7 69.8 69.9]\n",
      "-4.8039665922272956e-15 73.49662901132594\n",
      "[73.49662901 73.49662901 73.49662901 73.49662901 73.49662901 73.49662901\n",
      " 73.49662901 73.49662901 73.49662901 73.49662901 73.49662901 73.49662901\n",
      " 73.49662901 73.49662901 73.49662901 73.49662901 73.49662901 73.49662901\n",
      " 73.49662901 73.49662901 73.49662901 73.49662901 73.49662901 73.49662901\n",
      " 73.49662901 73.49662901 73.49662901 73.49662901 73.49662901 73.49662901\n",
      " 73.49662901 73.49662901 73.49662901 73.49662901 73.49662901 73.49662901\n",
      " 73.49662901 73.49662901 73.49662901 73.49662901 73.49662901 73.49662901\n",
      " 73.49662901 73.49662901 73.49662901 73.49662901 73.49662901 73.49662901\n",
      " 73.49662901 73.49662901 73.49662901 73.49662901 73.49662901 73.49662901\n",
      " 73.49662901 73.49662901 73.49662901 73.49662901 73.49662901 73.49662901\n",
      " 73.49662901 73.49662901 73.49662901 73.49662901 73.49662901 73.49662901\n",
      " 73.49662901 73.49662901 73.49662901 73.49662901 73.49662901 73.49662901\n",
      " 73.49662901 73.49662901 73.49662901 73.49662901 73.49662901 73.49662901\n",
      " 73.49662901 73.49662901 73.49662901 73.49662901 73.49662901 73.49662901\n",
      " 73.49662901 73.49662901 73.49662901 73.49662901 73.49662901 73.49662901\n",
      " 73.49662901 73.49662901 73.49662901 73.49662901 73.49662901 73.49662901\n",
      " 73.49662901 73.49662901 73.49662901 73.49662901 73.49662901 73.49662901\n",
      " 73.49662901 73.49662901 73.49662901 73.49662901 73.49662901 73.49662901\n",
      " 73.49662901 73.49662901 73.49662901 73.49662901 73.49662901 73.49662901\n",
      " 73.49662901 73.49662901 73.49662901 73.49662901 73.49662901 73.49662901\n",
      " 73.49662901 73.49662901 73.49662901 73.49662901 73.49662901 73.49662901\n",
      " 73.49662901 73.49662901 73.49662901 73.49662901 73.49662901 73.49662901\n",
      " 73.49662901 73.49662901 73.49662901 73.49662901 73.49662901 73.49662901\n",
      " 73.49662901 73.49662901 73.49662901 73.49662901 73.49662901 73.49662901\n",
      " 73.49662901 73.49662901 73.49662901 73.49662901 73.49662901 73.49662901\n",
      " 73.49662901 73.49662901 73.49662901 73.49662901 73.49662901 73.49662901\n",
      " 73.49662901 73.49662901 73.49662901 73.49662901 73.49662901 73.49662901\n",
      " 73.49662901 73.49662901 73.49662901 73.49662901 73.49662901 73.49662901\n",
      " 73.49662901 73.49662901 73.49662901 73.49662901 73.49662901 73.49662901\n",
      " 73.49662901 73.49662901 73.49662901 73.49662901 73.49662901 73.49662901\n",
      " 73.49662901 73.49662901 73.49662901 73.49662901 73.49662901 73.49662901\n",
      " 73.49662901 73.49662901 73.49662901 73.49662901 73.49662901 73.49662901\n",
      " 73.49662901 73.49662901 73.49662901 73.49662901 73.49662901 73.49662901\n",
      " 73.49662901 73.49662901 73.49662901 73.49662901 73.49662901 73.49662901\n",
      " 73.49662901 73.49662901 73.49662901 73.49662901 73.49662901 73.49662901\n",
      " 73.49662901 73.49662901 73.49662901 73.49662901 73.49662901 73.49662901\n",
      " 73.49662901 73.49662901 73.49662901 73.49662901 73.49662901 73.49662901\n",
      " 73.49662901 73.49662901 73.49662901 73.49662901 73.49662901 73.49662901\n",
      " 73.49662901 73.49662901 73.49662901 73.49662901 73.49662901 73.49662901\n",
      " 73.49662901 73.49662901 73.49662901 73.49662901 73.49662901 73.49662901\n",
      " 73.49662901 73.49662901 73.49662901 73.49662901 73.49662901 73.49662901\n",
      " 73.49662901 73.49662901 73.49662901 73.49662901 73.49662901 73.49662901\n",
      " 73.49662901 73.49662901 73.49662901 73.49662901 73.49662901 73.49662901\n",
      " 73.49662901 73.49662901 73.49662901 73.49662901 73.49662901 73.49662901\n",
      " 73.49662901 73.49662901 73.49662901 73.49662901 73.49662901 73.49662901\n",
      " 73.49662901 73.49662901 73.49662901 73.49662901 73.49662901 73.49662901\n",
      " 73.49662901 73.49662901 73.49662901 73.49662901 73.49662901 73.49662901\n",
      " 73.49662901 73.49662901 73.49662901 73.49662901 73.49662901 73.49662901\n",
      " 73.49662901 73.49662901 73.49662901 73.49662901 73.49662901 73.49662901\n",
      " 73.49662901 73.49662901 73.49662901 73.49662901 73.49662901 73.49662901\n",
      " 73.49662901 73.49662901 73.49662901 73.49662901 73.49662901 73.49662901\n",
      " 73.49662901 73.49662901 73.49662901 73.49662901 73.49662901 73.49662901\n",
      " 73.49662901 73.49662901 73.49662901 73.49662901 73.49662901 73.49662901\n",
      " 73.49662901 73.49662901 73.49662901 73.49662901 73.49662901 73.49662901\n",
      " 73.49662901 73.49662901 73.49662901 73.49662901 73.49662901 73.49662901\n",
      " 73.49662901 73.49662901 73.49662901 73.49662901 73.49662901 73.49662901\n",
      " 73.49662901 73.49662901 73.49662901 73.49662901 73.49662901 73.49662901\n",
      " 73.49662901 73.49662901 73.49662901 73.49662901 73.49662901 73.49662901\n",
      " 73.49662901 73.49662901 73.49662901 73.49662901 73.49662901 73.49662901\n",
      " 73.49662901 73.49662901 73.49662901 73.49662901 73.49662901 73.49662901\n",
      " 73.49662901 73.49662901 73.49662901 73.49662901 73.49662901 73.49662901\n",
      " 73.49662901 73.49662901 73.49662901 73.49662901 73.49662901 73.49662901\n",
      " 73.49662901 73.49662901 73.49662901 73.49662901 73.49662901 73.49662901\n",
      " 73.49662901 73.49662901 73.49662901 73.49662901 73.49662901 73.49662901\n",
      " 73.49662901 73.49662901 73.49662901 73.49662901 73.49662901 73.49662901\n",
      " 73.49662901 73.49662901 73.49662901 73.49662901 73.49662901 73.49662901\n",
      " 73.49662901 73.49662901 73.49662901 73.49662901]\n"
     ]
    },
    {
     "data": {
      "image/png": "[encoded data removed]",
      "text/plain": [
       "<Figure size 432x288 with 1 Axes>"
      ]
     },
     "metadata": {
      "needs_background": "light"
     },
     "output_type": "display_data"
    }
   ],
   "source": [
    "import matplotlib.pyplot as plt\n",
    "plt.scatter(x_train,y_train)\n",
    "x_line = np.arange(30,70,0.1)\n",
    "print(x_line)\n",
    "print(slope,intercept)\n",
    "y_line = (slope*x_line) + intercept\n",
    "print(y_line)\n",
    "plt.plot(x_line,y_line)\n",
    "plt.show()"
   ]
  }
 ],
 "metadata": {
  "kernelspec": {
   "display_name": "Python 3",
   "language": "python",
   "name": "python3"
  },
  "language_info": {
   "codemirror_mode": {
    "name": "ipython",
    "version": 3
   },
   "file_extension": ".py",
   "mimetype": "text/x-python",
   "name": "python",
   "nbconvert_exporter": "python",
   "pygments_lexer": "ipython3",
   "version": "3.7.0"
  }
 },
 "nbformat": 4,
 "nbformat_minor": 2
}
