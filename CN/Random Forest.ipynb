{
 "cells": [
  {
   "cell_type": "code",
   "execution_count": 2,
   "metadata": {},
   "outputs": [],
   "source": [
    "import numpy as np\n",
    "import pandas as pd\n",
    "from sklearn.linear_model import LogisticRegressionCV"
   ]
  },
  {
   "cell_type": "code",
   "execution_count": 3,
   "metadata": {},
   "outputs": [
    {
     "name": "stdout",
     "output_type": "stream",
     "text": [
      "(668, 11)\n",
      "(668, 10)\n",
      "Index(['Pclass', 'Name', 'Sex', 'Age', 'SibSp', 'Parch', 'Ticket', 'Fare',\n",
      "       'Cabin', 'Embarked', 'Survived'],\n",
      "      dtype='object')\n",
      "           Pclass         Age       SibSp       Parch        Fare    Survived\n",
      "count  668.000000  536.000000  668.000000  668.000000  668.000000  668.000000\n",
      "mean     2.296407   29.700560    0.528443    0.407186   32.064552    0.402695\n",
      "std      0.831638   14.240257    1.080327    0.854695   45.320835    0.490808\n",
      "min      1.000000    0.670000    0.000000    0.000000    0.000000    0.000000\n",
      "25%      2.000000   21.000000    0.000000    0.000000    7.925000    0.000000\n",
      "50%      3.000000   29.000000    0.000000    0.000000   14.750000    0.000000\n",
      "75%      3.000000   38.250000    1.000000    0.000000   31.275000    1.000000\n",
      "max      3.000000   80.000000    8.000000    6.000000  512.329200    1.000000\n"
     ]
    }
   ],
   "source": [
    "database = pd.read_csv(\"titanic_train.csv\")\n",
    "print(database.shape)\n",
    "x_train = database.iloc[:,:-1]\n",
    "print(x_train.shape)\n",
    "print(database.columns)\n",
    "print(database.describe())"
   ]
  },
  {
   "cell_type": "code",
   "execution_count": 4,
   "metadata": {},
   "outputs": [],
   "source": [
    "(database.isna().sum())/668\n",
    "database.drop(columns=[\"Cabin\"], inplace=True)"
   ]
  },
  {
   "cell_type": "code",
   "execution_count": 5,
   "metadata": {},
   "outputs": [
    {
     "data": {
      "text/plain": [
       "Pclass      0.000000\n",
       "Name        0.000000\n",
       "Sex         0.000000\n",
       "Age         0.197605\n",
       "SibSp       0.000000\n",
       "Parch       0.000000\n",
       "Ticket      0.000000\n",
       "Fare        0.000000\n",
       "Embarked    0.001497\n",
       "Survived    0.000000\n",
       "dtype: float64"
      ]
     },
     "execution_count": 5,
     "metadata": {},
     "output_type": "execute_result"
    }
   ],
   "source": [
    "(database.isna().sum())/668"
   ]
  },
  {
   "cell_type": "code",
   "execution_count": 6,
   "metadata": {},
   "outputs": [],
   "source": [
    "database.Age.fillna(value=database.Age.mean(),inplace=True)"
   ]
  },
  {
   "cell_type": "code",
   "execution_count": 7,
   "metadata": {},
   "outputs": [],
   "source": [
    "database.drop(columns=[\"Name\", \"Embarked\"], inplace=True)"
   ]
  },
  {
   "cell_type": "code",
   "execution_count": 8,
   "metadata": {},
   "outputs": [],
   "source": [
    "from sklearn.preprocessing import LabelEncoder\n",
    "encoder = LabelEncoder()\n",
    "database.Sex = encoder.fit_transform(database.Sex)"
   ]
  },
  {
   "cell_type": "code",
   "execution_count": 9,
   "metadata": {},
   "outputs": [
    {
     "name": "stdout",
     "output_type": "stream",
     "text": [
      "   Pclass  Sex       Age  SibSp  Parch           Ticket    Fare  Survived\n",
      "0       2    0  29.00000      1      0           228414  26.000         1\n",
      "1       3    1  29.70056      0      0         A/5 2466   8.050         0\n",
      "2       2    1  39.00000      0      0           250655  26.000         0\n",
      "3       3    0  29.00000      0      4           349909  21.075         0\n",
      "4       3    1  25.00000      0      0  SOTON/OQ 392076   7.050         0\n"
     ]
    }
   ],
   "source": [
    "print(database.head())\n",
    "database.drop(columns=[\"Ticket\"],inplace = True)"
   ]
  },
  {
   "cell_type": "code",
   "execution_count": 10,
   "metadata": {},
   "outputs": [],
   "source": [
    "from sklearn.model_selection import train_test_split\n",
    "x =database.iloc[:,:-1]\n",
    "y = database.iloc[:,-1]\n",
    "x_train,x_test,y_train,y_test=train_test_split(x,y)"
   ]
  },
  {
   "cell_type": "code",
   "execution_count": 11,
   "metadata": {},
   "outputs": [
    {
     "name": "stdout",
     "output_type": "stream",
     "text": [
      "Index(['Pclass', 'Name', 'Sex', 'Age', 'SibSp', 'Parch', 'Ticket', 'Fare',\n",
      "       'Cabin', 'Embarked'],\n",
      "      dtype='object')\n"
     ]
    }
   ],
   "source": [
    "testdata = pd.read_csv(\"titanic_test.csv\")\n",
    "print(testdata.columns)\n",
    "testdata.drop(columns=[\"Name\",\"Ticket\",\"Cabin\",\"Embarked\"],inplace=True)"
   ]
  },
  {
   "cell_type": "code",
   "execution_count": 12,
   "metadata": {},
   "outputs": [
    {
     "name": "stdout",
     "output_type": "stream",
     "text": [
      "   Pclass  Sex        Age  SibSp  Parch     Fare\n",
      "0       2    1   8.000000      1      1  36.7500\n",
      "1       1    0  49.000000      0      0  25.9292\n",
      "2       3    1  29.694775      0      0   7.7375\n",
      "3       2    0  24.000000      2      1  27.0000\n",
      "4       1    1  36.000000      0      0  26.2875\n"
     ]
    }
   ],
   "source": [
    "from sklearn.preprocessing import LabelEncoder\n",
    "encoder = LabelEncoder()\n",
    "testdata.Sex = encoder.fit_transform(testdata.Sex)\n",
    "testdata.Age.fillna(value=testdata.Age.mean(),inplace = True)\n",
    "print(testdata.head())"
   ]
  },
  {
   "cell_type": "code",
   "execution_count": 13,
   "metadata": {},
   "outputs": [
    {
     "name": "stdout",
     "output_type": "stream",
     "text": [
      "0.9840319361277445\n",
      "0.7365269461077845\n"
     ]
    }
   ],
   "source": [
    "from sklearn import tree\n",
    "algo1 = tree.DecisionTreeClassifier()\n",
    "algo1.fit(x_train,y_train)\n",
    "ypred1= algo1.predict(testdata)\n",
    "print(algo1.score(x_train,y_train))\n",
    "print(algo1.score(x_test,y_test))"
   ]
  },
  {
   "cell_type": "code",
   "execution_count": 14,
   "metadata": {},
   "outputs": [
    {
     "name": "stdout",
     "output_type": "stream",
     "text": [
      "0.9680638722554891\n",
      "0.8203592814371258\n"
     ]
    },
    {
     "name": "stderr",
     "output_type": "stream",
     "text": [
      "/home/abh1kudo/anaconda3/lib/python3.7/site-packages/sklearn/ensemble/forest.py:246: FutureWarning: The default value of n_estimators will change from 10 in version 0.20 to 100 in 0.22.\n",
      "  \"10 in version 0.20 to 100 in 0.22.\", FutureWarning)\n"
     ]
    }
   ],
   "source": [
    "from sklearn.ensemble import RandomForestClassifier\n",
    "algo2 = RandomForestClassifier(random_state=0)\n",
    "algo2.fit(x_train,y_train)\n",
    "print(algo2.score(x_train,y_train))\n",
    "print(algo2.score(x_test,y_test))"
   ]
  },
  {
   "cell_type": "markdown",
   "metadata": {},
   "source": [
    "The important part is that decision tree has high accuracy on training while lower on testing (Overfit)<br>\n",
    "While Random Forest has leser on training (as compared to decision tree) but higher on testing (so no overfitting)"
   ]
  },
  {
   "cell_type": "code",
   "execution_count": 15,
   "metadata": {},
   "outputs": [],
   "source": [
    "#we need to add max_depth etc to optimize , minimum nuber of data points to split etc"
   ]
  }
 ],
 "metadata": {
  "kernelspec": {
   "display_name": "Python 3",
   "language": "python",
   "name": "python3"
  },
  "language_info": {
   "codemirror_mode": {
    "name": "ipython",
    "version": 3
   },
   "file_extension": ".py",
   "mimetype": "text/x-python",
   "name": "python",
   "nbconvert_exporter": "python",
   "pygments_lexer": "ipython3",
   "version": "3.7.1"
  }
 },
 "nbformat": 4,
 "nbformat_minor": 2
}
