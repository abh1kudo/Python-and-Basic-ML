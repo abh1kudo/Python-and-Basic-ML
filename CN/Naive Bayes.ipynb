{
 "cells": [
  {
   "cell_type": "code",
   "execution_count": 241,
   "metadata": {},
   "outputs": [],
   "source": [
    "import numpy as np"
   ]
  },
  {
   "cell_type": "code",
   "execution_count": 242,
   "metadata": {},
   "outputs": [],
   "source": [
    "def fit(x_train,y_train):\n",
    "    result = {}\n",
    "    result[\"total_data\"]=len(y_train)\n",
    "    key_val = set(y_train)\n",
    "    for key in key_val:\n",
    "        result[key] = {}\n",
    "        currentclassrow = (y_train==key)\n",
    "        x_train_current = x_train[currentclassrow]\n",
    "        y_train_current = y_train[currentclassrow]\n",
    "        numberoffeatures = x_train.shape[1]\n",
    "        for feature in range(1,1+numberoffeatures):\n",
    "            result[key][feature]={}\n",
    "            val = set(x_train[:,feature-1])\n",
    "            for indval in val:\n",
    "                result[key][feature][indval] = (x_train_current[:,feature-1]==indval).sum()\n",
    "        result[key][\"count\"]=len(y_train_current)\n",
    "    return result"
   ]
  },
  {
   "cell_type": "code",
   "execution_count": 256,
   "metadata": {},
   "outputs": [],
   "source": [
    "def prob(dictionary,x,curr_class):\n",
    "    output = np.log(1)\n",
    "    #it has 2 components (prioir prob / class prob)\n",
    "    classprob = np.log(dictionary[curr_class][\"count\"])-np.log(dictionary[\"total_data\"])\n",
    "    #now we do 2nd component\n",
    "    numoffeatures = len(dictionary[curr_class].keys())-1\n",
    "    for i in range(1,1+numoffeatures):\n",
    "        xi = x[i-1]\n",
    "        countwithxi = dictionary[curr_class][i][xi] +1\n",
    "        prob = np.log(countwithxi)-np.log(dictionary[curr_class][\"count\"] +len(dictionary[curr_class][i].keys()))\n",
    "        output +=  prob\n",
    "    #print (output,classprob)\n",
    "    return output+classprob"
   ]
  },
  {
   "cell_type": "code",
   "execution_count": 257,
   "metadata": {},
   "outputs": [],
   "source": [
    "def predictsinglepoint(dictionary,x):\n",
    "    classes = dictionary.keys()\n",
    "    bestprob = -1000\n",
    "    bestclass = -1\n",
    "    for curr_class in classes:\n",
    "        if(curr_class== \"total_data\"):\n",
    "            continue\n",
    "        p_curr_class = prob(dictionary, x, curr_class)\n",
    "        if(p_curr_class>bestprob):\n",
    "            bestprob = p_curr_class\n",
    "            bestclass= curr_class\n",
    "    return bestclass"
   ]
  },
  {
   "cell_type": "code",
   "execution_count": 258,
   "metadata": {},
   "outputs": [],
   "source": [
    "def predict(dictionary , x_test):\n",
    "    y_pred = []\n",
    "    for x in x_test:\n",
    "        x_class = predictsinglepoint(dictionary,x)\n",
    "        y_pred.append(x_class)\n",
    "        #print(x_class)\n",
    "    return y_pred"
   ]
  },
  {
   "cell_type": "code",
   "execution_count": 259,
   "metadata": {},
   "outputs": [],
   "source": [
    "def makelabel(column):\n",
    "    seclim = column.mean()\n",
    "    firlim = seclim / 2\n",
    "    thirlim = firlim * 3 \n",
    "    for i in range(len(column)):\n",
    "        if(column[i]<firlim):\n",
    "            column[i] = 0\n",
    "        elif(column[i]>=firlim and column[i]<seclim):\n",
    "            column[i]=1\n",
    "        else:\n",
    "            column[i]=2\n",
    "    return column"
   ]
  },
  {
   "cell_type": "code",
   "execution_count": 260,
   "metadata": {},
   "outputs": [],
   "source": [
    "from sklearn import datasets\n",
    "db = datasets.load_iris()\n",
    "x = db.data\n",
    "y = db.target"
   ]
  },
  {
   "cell_type": "code",
   "execution_count": 261,
   "metadata": {},
   "outputs": [],
   "source": [
    "for i in range(x.shape[-1]):\n",
    "    x[:,i] = makelabel(x[:,i])"
   ]
  },
  {
   "cell_type": "code",
   "execution_count": 274,
   "metadata": {},
   "outputs": [],
   "source": [
    "from sklearn import model_selection\n",
    "x_train , x_test , y_train , y_test = model_selection.train_test_split(x,y)"
   ]
  },
  {
   "cell_type": "code",
   "execution_count": 275,
   "metadata": {},
   "outputs": [
    {
     "name": "stdout",
     "output_type": "stream",
     "text": [
      "(112, 4)\n"
     ]
    }
   ],
   "source": [
    "print(x_train.shape)"
   ]
  },
  {
   "cell_type": "code",
   "execution_count": 276,
   "metadata": {},
   "outputs": [],
   "source": [
    "dictionary = fit(x_train,y_train)"
   ]
  },
  {
   "cell_type": "code",
   "execution_count": 280,
   "metadata": {},
   "outputs": [
    {
     "name": "stdout",
     "output_type": "stream",
     "text": [
      "{1: {1.0: 18, 2.0: 17}, 2: {1.0: 28, 2.0: 7}, 3: {0.0: 0, 1.0: 5, 2.0: 30}, 4: {0.0: 0, 1.0: 8, 2.0: 27}, 'count': 35}\n"
     ]
    }
   ],
   "source": [
    "print(dictionary[1])"
   ]
  },
  {
   "cell_type": "code",
   "execution_count": 278,
   "metadata": {},
   "outputs": [
    {
     "name": "stdout",
     "output_type": "stream",
     "text": [
      "[2, 2, 2, 0, 2, 2, 2, 2, 0, 0, 0, 0, 2, 2, 1, 0, 0, 1, 2, 0, 1, 0, 2, 1, 0, 2, 0, 2, 0, 2, 0, 2, 2, 0, 1, 1, 2, 2]\n"
     ]
    }
   ],
   "source": [
    "y_pred = predict(dictionary,x_test)\n",
    "print(y_pred)"
   ]
  },
  {
   "cell_type": "code",
   "execution_count": 279,
   "metadata": {},
   "outputs": [
    {
     "name": "stdout",
     "output_type": "stream",
     "text": [
      "              precision    recall  f1-score   support\n",
      "\n",
      "           0       1.00      1.00      1.00        14\n",
      "           1       1.00      0.40      0.57        15\n",
      "           2       0.50      1.00      0.67         9\n",
      "\n",
      "   micro avg       0.76      0.76      0.76        38\n",
      "   macro avg       0.83      0.80      0.75        38\n",
      "weighted avg       0.88      0.76      0.75        38\n",
      "\n",
      "[[14  0  0]\n",
      " [ 0  6  9]\n",
      " [ 0  0  9]]\n"
     ]
    }
   ],
   "source": [
    "from sklearn.metrics import classification_report, confusion_matrix\n",
    "print(classification_report(y_test,y_pred))\n",
    "print(confusion_matrix(y_test, y_pred))"
   ]
  }
 ],
 "metadata": {
  "kernelspec": {
   "display_name": "Python 3",
   "language": "python",
   "name": "python3"
  },
  "language_info": {
   "codemirror_mode": {
    "name": "ipython",
    "version": 3
   },
   "file_extension": ".py",
   "mimetype": "text/x-python",
   "name": "python",
   "nbconvert_exporter": "python",
   "pygments_lexer": "ipython3",
   "version": "3.7.1"
  }
 },
 "nbformat": 4,
 "nbformat_minor": 2
}
