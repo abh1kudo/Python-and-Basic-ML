{
 "cells": [
  {
   "cell_type": "code",
   "execution_count": 5,
   "metadata": {},
   "outputs": [
    {
     "name": "stdout",
     "output_type": "stream",
     "text": [
      "<class 'list'>\n",
      "[1, 2, 3]\n",
      "[]\n",
      "[1, 2, 3]\n",
      "[0, 0, 0, 0, 0, 0, 0, 0, 0, 0]\n",
      "[0, 1, 4, 9, 16, 25, 36, 49, 64, 81]\n",
      "[1, 2, 'ab', (5+6j)]\n"
     ]
    }
   ],
   "source": [
    "a = [1,2,3]\n",
    "print(type(a))\n",
    "print(a)\n",
    "\n",
    "a1 = list()\n",
    "print(a1)\n",
    "\n",
    "a2 = list(a)\n",
    "print(a2)\n",
    "\n",
    "a3 = [0 for i in range(10)]\n",
    "print(a3)\n",
    "\n",
    "a4 = [i*i for i in range(10)]\n",
    "print(a4)\n",
    "\n",
    "a6 = [1,2,\"ab\",5+6j]\n",
    "print(a6)\n",
    "\n"
   ]
  },
  {
   "cell_type": "code",
   "execution_count": 12,
   "metadata": {},
   "outputs": [
    {
     "name": "stdout",
     "output_type": "stream",
     "text": [
      "1\n",
      "3\n",
      "[2, 3]\n",
      "3\n",
      "0 1 4 9 16 25 36 49 64 81 "
     ]
    }
   ],
   "source": [
    "#access data\n",
    "print(a[0])\n",
    "print(a[-1])\n",
    "print(a[1:3])\n",
    "print(len(a))\n",
    "\n",
    "#fast iterate\n",
    "for i in a4:\n",
    "    print(i,end=\" \")"
   ]
  },
  {
   "cell_type": "code",
   "execution_count": 28,
   "metadata": {},
   "outputs": [
    {
     "name": "stdout",
     "output_type": "stream",
     "text": [
      "['', 'a', 'aadab', 'adac', 'asda,bc']\n",
      "[' a aadab adac asda', 'bc']\n",
      "['a', 'aadab', 'adac', 'asda,bc']\n",
      "4 5 6\n",
      "['4', '5', '6']\n",
      "4 5 6\n",
      "[4, 5, 6]\n",
      "['h', 'e', 'l', 'l', 'o']\n"
     ]
    }
   ],
   "source": [
    "#take input from user in list\n",
    "a = \" a aadab adac asda,bc\"\n",
    "print(a.split(\" \"))\n",
    "print(a.split(\",\"))\n",
    "print(a.strip().split())\n",
    "inp = (input().strip().split())\n",
    "print(inp)\n",
    "\n",
    "inp1 = [int(x) for x in input().strip().split()]\n",
    "print(inp1)\n",
    "\n",
    "print(list(\"hello\"))"
   ]
  },
  {
   "cell_type": "code",
   "execution_count": 38,
   "metadata": {},
   "outputs": [
    {
     "name": "stdout",
     "output_type": "stream",
     "text": [
      "[1, 2, 3, 5]\n",
      "[1, 2, 45, 3, 5]\n",
      "[1, 2, 3]\n",
      "[1, 2, 45, 3, 5, 1, 2, 3]\n"
     ]
    }
   ],
   "source": [
    "#add elements in a list\n",
    "inp1 = [1,2,3]\n",
    "inp1.append(5)\n",
    "print(inp1)\n",
    "\n",
    "inp1.insert(2,45) # insert(index,val)\n",
    "print(inp1)\n",
    "\n",
    "inp1.extend(a2)\n",
    "print(a2)\n",
    "print(inp1)"
   ]
  },
  {
   "cell_type": "code",
   "execution_count": 44,
   "metadata": {},
   "outputs": [
    {
     "name": "stdout",
     "output_type": "stream",
     "text": [
      "[1, 2, 45, 3, 5, 1, 2]\n",
      "[2, 45, 3, 1, 2]\n",
      "[45, 3, 1, 2]\n",
      "[1, 2]\n"
     ]
    }
   ],
   "source": [
    "#deleting elements \n",
    "inp1 = [1, 2, 45, 3, 5, 1, 2, 3]\n",
    "inp1.pop() #without argument will remove last element\n",
    "print(inp1)\n",
    "inp1.pop(4) #with argument removes element at index argument\n",
    "\n",
    "#remove for elements not index\n",
    "inp1.remove(1)\n",
    "#will remove first occurance of argument\n",
    "print(inp1)\n",
    "\n",
    "del inp1[0] #delete index or slice\n",
    "print(inp1)\n",
    "\n",
    "del inp1[0:2]\n",
    "print(inp1)"
   ]
  },
  {
   "cell_type": "code",
   "execution_count": 50,
   "metadata": {},
   "outputs": [
    {
     "name": "stdout",
     "output_type": "stream",
     "text": [
      "[1, 2, 3, 1, 2, 3]\n",
      "[1, 2, 3, 1, 2, 3, 1, 2, 3, 1, 2, 3]\n",
      "[1, 2, 3, 1, 2, 3, 1, 2, 3, 1, 2, 3, 1, 2, 3, 1, 2, 3, 1, 2, 3, 1, 2, 3, 1, 2, 3, 1, 2, 3, 1, 2, 3, 1, 2, 3]\n"
     ]
    }
   ],
   "source": [
    "l = [1,2,3]\n",
    "l = l+l\n",
    "print(l)\n",
    "l.extend(l)\n",
    "print(l)\n",
    "print(l*3)"
   ]
  },
  {
   "cell_type": "code",
   "execution_count": 59,
   "metadata": {},
   "outputs": [
    {
     "name": "stdout",
     "output_type": "stream",
     "text": [
      "[2, 3, 1, 2, 34, 5, 6, 67, 6, 3, 21, 21, 112]\n",
      "[1, 2, 2, 3, 3, 5, 6, 6, 21, 21, 34, 67, 112]\n",
      "2\n",
      "1\n",
      "[112, 67, 34, 21, 21, 6, 6, 5, 3, 3, 2, 2, 1]\n",
      "False\n"
     ]
    }
   ],
   "source": [
    "l =  [2,3,1,2,34,5,6,67,6,3,21,21,112]\n",
    "print(l)\n",
    "l.sort()\n",
    "print(l)\n",
    "\n",
    "print(l.count(6))\n",
    "print(l.index(2)) #gives first index\n",
    "\n",
    "l.reverse()\n",
    "print(l)\n",
    "\n",
    "print(4 in l)"
   ]
  },
  {
   "cell_type": "code",
   "execution_count": 60,
   "metadata": {},
   "outputs": [
    {
     "name": "stdout",
     "output_type": "stream",
     "text": [
      "abc\n"
     ]
    }
   ],
   "source": [
    "aList = [123, 'xyz', 'zara', 'abc'];\n",
    "print(aList.pop())"
   ]
  },
  {
   "cell_type": "code",
   "execution_count": 63,
   "metadata": {},
   "outputs": [
    {
     "name": "stdout",
     "output_type": "stream",
     "text": [
      "[4, 5, 1, 2, 11, 67, 43, 21, 56]\n",
      "[1, 2, 4, 5, 11, 21, 43, 56, 67]\n"
     ]
    }
   ],
   "source": [
    "#bubble sort\n",
    "l = [4,5,1,2,11,67,43,21,56]\n",
    "print(l)\n",
    "for i in range(len(l)):\n",
    "    for j in range(len(l)-i-1):\n",
    "        if(l[j]>l[j+1]):\n",
    "            l[j+1],l[j]=l[j],l[j+1]\n",
    "            \n",
    "#no temporary variable needed\n",
    "print(l)"
   ]
  },
  {
   "cell_type": "code",
   "execution_count": 64,
   "metadata": {},
   "outputs": [
    {
     "name": "stdout",
     "output_type": "stream",
     "text": [
      "7\n",
      "2 13 4 1 3 6 28\n",
      "[1, 2, 3, 4, 6, 13, 28]\n"
     ]
    }
   ],
   "source": [
    "#selection sort\n",
    "n= int(input())\n",
    "l = [int(x) for x in input().strip().split()]\n",
    "for i in range(len(l)-1):\n",
    "    min1 = l[i]\n",
    "    for j in range(i+1,len(l)):\n",
    "        if(l[j]<min1):\n",
    "            l[j],min1 = min1,l[j]\n",
    "    l[i] = min1\n",
    "for i in l:\n",
    "    print(i,end=\" \")"
   ]
  },
  {
   "cell_type": "code",
   "execution_count": 65,
   "metadata": {},
   "outputs": [
    {
     "name": "stdout",
     "output_type": "stream",
     "text": [
      "7 \n",
      "-7 1 5 2 -4 3 0\n",
      "3\n"
     ]
    }
   ],
   "source": [
    "#Equilibrium Index\n",
    "n = int(input())\n",
    "l = [int(x) for x in input().strip().split()]\n",
    "sum1 = sum(l[::])\n",
    "f = 0\n",
    "lsum = 0\n",
    "for i in range(len(l)):\n",
    "    sum1 -= l[i]\n",
    "    if(lsum == sum1):\n",
    "        print(i)\n",
    "        f = 1\n",
    "        break\n",
    "    else:\n",
    "        lsum+= l[i]\n",
    "if(not f):\n",
    "    print(-1)"
   ]
  },
  {
   "cell_type": "code",
   "execution_count": 17,
   "metadata": {},
   "outputs": [
    {
     "name": "stdout",
     "output_type": "stream",
     "text": [
      "{23: 34, 'str': 12}\n",
      "{'abc': 2, 122: 23, 'ab': 45}\n",
      "abc 2\n",
      "122 23\n",
      "ab 45\n",
      "{'str': 12}\n",
      "True\n",
      "{}\n",
      "dict_values([2, 23, 45])\n",
      "dict_keys(['abc', 122, 'ab'])\n"
     ]
    }
   ],
   "source": [
    "#Dictionaries\n",
    "d = {}\n",
    "d[23] = 34\n",
    "d[\"str\"] = 12\n",
    "print(d)\n",
    "\n",
    "b = {\"abc\":2 , 122:23 , \"ab\": 45}\n",
    "print(b)\n",
    "#key insertion if not present , else update, not existing keys give keyerror on accessing \n",
    "#dictionary keys are immutable , also lists,dictionarys cant be dictionary keys \n",
    "\n",
    "#iteration\n",
    "for i in b:\n",
    "    print(i,end = \" \")\n",
    "    print(b[i])\n",
    "    \n",
    "#delete\n",
    "del d[23]\n",
    "print(d)\n",
    "\n",
    "#functions\n",
    "d1,d2 = {},{}\n",
    "print(d1==d2) #comparison\n",
    "\n",
    "d.clear()#remove everything\n",
    "print(d)\n",
    "\n",
    "print(b.values())\n",
    "print(b.keys())"
   ]
  },
  {
   "cell_type": "code",
   "execution_count": 21,
   "metadata": {},
   "outputs": [
    {
     "name": "stdout",
     "output_type": "stream",
     "text": [
      "5\n",
      "13 17 5 4 6\n",
      "17 6 "
     ]
    }
   ],
   "source": [
    "#practice Question Leaders of Array\n",
    "n = int(input())\n",
    "x = [int(d) for d in input().strip().split()]\n",
    "a = []\n",
    "mx = x[n-1]\n",
    "a.append(mx)\n",
    "for i in range(n-2,-1,-1):\n",
    "    if(x[i]>=mx):\n",
    "        a.append(x[i])\n",
    "        mx =  x[i]\n",
    "for i in a[::-1]:\n",
    "    print(i,end =\" \")"
   ]
  },
  {
   "cell_type": "code",
   "execution_count": 22,
   "metadata": {},
   "outputs": [
    {
     "name": "stdout",
     "output_type": "stream",
     "text": [
      "Welcome to Coding Ninjas\n",
      "Ninjas Coding to Welcome "
     ]
    }
   ],
   "source": [
    "#reverse string word wise\n",
    "x = input().strip().split()\n",
    "for i in x[::-1]:\n",
    "    print(i,end = \" \")"
   ]
  },
  {
   "cell_type": "code",
   "execution_count": 8,
   "metadata": {},
   "outputs": [
    {
     "name": "stdout",
     "output_type": "stream",
     "text": [
      "8\n",
      "2 3 7 10 12 15 30 34\n",
      "8\n",
      "1 5 7 8 10 15 16 19\n",
      "122\n"
     ]
    }
   ],
   "source": [
    "#For some reason doesnt work\n",
    "n =  int(input())\n",
    "nx = [int(x) for x in input().strip().split()]\n",
    "m = int(input())\n",
    "mx  = [int(x) for x in input().strip().split()]\n",
    "tmpl,tmpr,nsum,msum = 0,0,0,0\n",
    "lsum,rsum  = {},{}\n",
    "for i in range(n):\n",
    "    nsum += nx[i]\n",
    "tmpr =  nsum\n",
    "for i in range(n):\n",
    "    tmpl += nx[i]\n",
    "    tmpr -= nx[i]\n",
    "    if(nx[i] in lsum):\n",
    "        lsum[nx[i]] = max(lsum[nx[i]], tmpl)\n",
    "    if(nx[i] in rsum):\n",
    "        rsum[nx[i]] = max(rsum[nx[i]],tmpr)\n",
    "    if(nx[i] not in lsum):\n",
    "        lsum[nx[i]] = tmpl\n",
    "    if(nx[i] not in rsum):\n",
    "        rsum[nx[i]] = tmpr\n",
    "for i in range(m):\n",
    "    msum += mx[i]\n",
    "tmpr =  msum\n",
    "tmpl = 0\n",
    "for i in range(m):\n",
    "    tmpl += mx[i]\n",
    "    tmpr -= mx[i]\n",
    "    if(mx[i] in lsum):\n",
    "        lsum[mx[i]] = max(lsum[mx[i]], tmpl)\n",
    "    if(mx[i] in rsum):\n",
    "        rsum[mx[i]] = max(rsum[mx[i]],tmpr)\n",
    "    if(mx[i] not in lsum):\n",
    "        lsum[mx[i]] = tmpl\n",
    "    if(mx[i] not in rsum):\n",
    "        rsum[mx[i]] = tmpr\n",
    "\n",
    "#print(lsum)\n",
    "#print(rsum)\n",
    "msum,tmpsum = 0,0\n",
    "for i in lsum:\n",
    "    tmpsum = 0\n",
    "    tmpsum += lsum[i]\n",
    "    tmpsum += rsum[i]\n",
    "    #print(tmpsum)\n",
    "    if(tmpsum >= msum):\n",
    "        msum = tmpsum\n",
    "print(msum)"
   ]
  },
  {
   "cell_type": "code",
   "execution_count": 10,
   "metadata": {},
   "outputs": [
    {
     "name": "stdout",
     "output_type": "stream",
     "text": [
      "6\n",
      "1 5 10 15 20 25\n",
      "5\n",
      "2 4 5 9 14\n",
      "81\n"
     ]
    }
   ],
   "source": [
    "#2nd attempt gives tle\n",
    "n = int(input())\n",
    "nx = [int(x) for x in input().strip().split()]\n",
    "m = int(input())\n",
    "mx = [int(x) for x in input().strip().split()]\n",
    "i,j =0,0\n",
    "res,sum1,sum2 = 0,0,0\n",
    "while(i<n and j<m):\n",
    "    if(nx[i]<mx[j]):\n",
    "        sum1+= nx[i]\n",
    "        i+=1\n",
    "    elif(nx[i]>mx[j]):\n",
    "        sum2+= mx[j]\n",
    "        j+=1\n",
    "    else:\n",
    "        res += max(sum1,sum2)\n",
    "        sum1,sum2 =0,0\n",
    "        while(i<m and j<n and nx[i]==mx[j]):\n",
    "            res+= nx[i]\n",
    "            i+=1\n",
    "            j+=1\n",
    "while i<n:\n",
    "    sum1+=nx[i]\n",
    "    i+=1\n",
    "while j<m:\n",
    "    sum2+= mx[j]\n",
    "    j+=1\n",
    "res+= max(sum1,sum2)\n",
    "\n",
    "print(res)"
   ]
  },
  {
   "cell_type": "code",
   "execution_count": 17,
   "metadata": {},
   "outputs": [
    {
     "name": "stdout",
     "output_type": "stream",
     "text": [
      "abcdabceb\n",
      "dabce"
     ]
    }
   ],
   "source": [
    "x = input()\n",
    "mxl = 0\n",
    "a = []\n",
    "for i in range(len(x)):\n",
    "    tl = 0\n",
    "    dic = []\n",
    "    for j in range(i,len(x)):\n",
    "        if(x[j] not in dic):\n",
    "            dic.append(x[j])\n",
    "            tl+=1\n",
    "        else:\n",
    "            if tl>mxl:\n",
    "                a.clear()\n",
    "                mxl = tl\n",
    "                for k in dic:\n",
    "                    a.append(k)\n",
    "            break\n",
    "#print(mxl)\n",
    "for i in a:\n",
    "    print(i,end=\"\")"
   ]
  },
  {
   "cell_type": "code",
   "execution_count": 15,
   "metadata": {},
   "outputs": [
    {
     "name": "stdout",
     "output_type": "stream",
     "text": [
      "[0, 1, 2, 3, 4, 5, 6, 7, 8, 9]\n",
      "[[0, 0, 0], [0, 0, 0], [0, 0, 0], [0, 0, 0], [0, 0, 0], [0, 0, 0], [0, 0, 0], [0, 0, 0], [0, 0, 0], [0, 0, 0]]\n",
      "[[0, 1, 2, 3], [0, 1, 2, 3], [0, 1, 2, 3], [0, 1, 2, 3], [0, 1, 2, 3], [0, 1, 2, 3], [0, 1, 2, 3], [0, 1, 2, 3], [0, 1, 2, 3], [0, 1, 2, 3]]\n",
      "[[0, 1, 2, 3], [1, 2, 3, 4], [2, 3, 4, 5], [3, 4, 5, 6], [4, 5, 6, 7], [5, 6, 7, 8], [6, 7, 8, 9], [7, 8, 9, 10], [8, 9, 10, 11], [9, 10, 11, 12]]\n",
      "3  3\n",
      "3 3\n",
      "1 2 3 6 5 4 7 8 9\n",
      "[[1, 2, 3], [6, 5, 4], [7, 8, 9]]\n",
      "[[1, 2, 3], [6, 5, 4], [7, 8, 9]]\n"
     ]
    }
   ],
   "source": [
    "#2D Lists\n",
    "l = [i for i in range(10)]\n",
    "print(l)\n",
    "l2d = [[0,0,0] for i in range(10)]\n",
    "print(l2d)\n",
    "l2d2 = [[j for j in range(4)] for i in range(10)]\n",
    "print(l2d2)\n",
    "l2d3 = [[i+j for j in range(4)] for i in range(10)]\n",
    "print(l2d3)\n",
    "\n",
    "#taking inputs\n",
    "l = input().strip().split()\n",
    "n,m = int(l[0]),int(l[1])\n",
    "print(m,n)\n",
    "#single line mai complete 2d input aaya toh\n",
    "k = [int(i) for i in input().strip().split()]\n",
    "out = []\n",
    "for i in range(n):\n",
    "    out.append([])\n",
    "    for j in range(m):\n",
    "        out[i].append(k[m*i+j])\n",
    "print(out)\n",
    "#in one line\n",
    "out2 = [[k[m*i+j] for j in range(m)] for i in range(n)]\n",
    "print(out2)"
   ]
  },
  {
   "cell_type": "code",
   "execution_count": 19,
   "metadata": {},
   "outputs": [
    {
     "name": "stdout",
     "output_type": "stream",
     "text": [
      "3 3\n",
      "1 6 7 8 5 2 9 4 3 "
     ]
    }
   ],
   "source": [
    "#wave print problem\n",
    "n = len(out2)\n",
    "m = len(out2[0])\n",
    "print(n,m)\n",
    "for j in range(m):\n",
    "    if(j and 1):\n",
    "        for i in range(n-1,-1,-1):\n",
    "            print(out2[i][j],end =\" \")\n",
    "    else:\n",
    "        for i in range(n):\n",
    "            print(out2[i][j],end = \" \")"
   ]
  },
  {
   "cell_type": "code",
   "execution_count": 23,
   "metadata": {},
   "outputs": [
    {
     "name": "stdout",
     "output_type": "stream",
     "text": [
      "3 3\n",
      "3 6 9 1 4 7 2 8 9\n",
      "column 2 25\n"
     ]
    }
   ],
   "source": [
    "#max row/column sum\n",
    "inp1 = [int(i) for i in input().split()]\n",
    "n,m = inp1[0],inp1[1]\n",
    "l1 = [int(i) for i in input().strip().split()]\n",
    "out = [[l1[m*i+j] for j in range(m)] for i in range(n)]\n",
    "msum,rcol,tsum,rcolno = -1 , 0 , -1 , -1\n",
    "for i in range(n):\n",
    "    tsum = 0\n",
    "    for j in range(m):\n",
    "        tsum+=out[i][j]\n",
    "    if(tsum > msum):\n",
    "        msum = tsum\n",
    "        rcolno = i\n",
    "        \n",
    "for j in range(m):\n",
    "    tsum = 0\n",
    "    for i in range(n):\n",
    "        tsum+=out[i][j]\n",
    "    if(tsum>msum):\n",
    "        msum = tsum\n",
    "        rcolno = j\n",
    "        rcol =1\n",
    "if(rcol):\n",
    "    print(\"column\", rcolno, msum)\n",
    "else:\n",
    "    print(\"row\", rcolno,msum)"
   ]
  },
  {
   "cell_type": "code",
   "execution_count": 29,
   "metadata": {},
   "outputs": [
    {
     "name": "stdout",
     "output_type": "stream",
     "text": [
      "4 4 1 2 3 4 5 6 7 8 9 10 11 12 13 14 15 16\n",
      "1 2 3 4 8 12 16 15 14 13 9 5 6 7 11 10 "
     ]
    }
   ],
   "source": [
    "#print 2d array in spiral form\n",
    "l = [int(i) for i in input().strip().split()]\n",
    "n,m = l[0],l[1]\n",
    "out =  [[l[2+(m*i)+j] for j in range(m)] for i in range(n)]\n",
    "marked = [[0 for j in range(m)] for i in range(n)]\n",
    "diri = 0\n",
    "sr,sc,er,ec = 0,0,n-1,m-1\n",
    "while(sr<=er and sc<=ec):\n",
    "    for i in range(sc,ec+1):\n",
    "        print(out[sr][i],end = \" \")\n",
    "    sr+=1\n",
    "    for i in range(sr,er+1):\n",
    "        print(out[i][ec],end=\" \")\n",
    "    ec-=1\n",
    "    for i in range(ec,sc-1,-1):\n",
    "        print(out[er][i],end = \" \")\n",
    "    er-=1\n",
    "    for i in range(er,sr-1,-1):\n",
    "        print(out[i][sc],end = \" \")\n",
    "    sc+=1\n",
    "        \n",
    "    \n",
    "#print(out)"
   ]
  }
 ],
 "metadata": {
  "kernelspec": {
   "display_name": "Python 3",
   "language": "python",
   "name": "python3"
  },
  "language_info": {
   "codemirror_mode": {
    "name": "ipython",
    "version": 3
   },
   "file_extension": ".py",
   "mimetype": "text/x-python",
   "name": "python",
   "nbconvert_exporter": "python",
   "pygments_lexer": "ipython3",
   "version": "3.7.0"
  }
 },
 "nbformat": 4,
 "nbformat_minor": 2
}
