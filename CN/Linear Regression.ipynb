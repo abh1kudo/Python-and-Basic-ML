{
 "cells": [
  {
   "cell_type": "code",
   "execution_count": 3,
   "metadata": {},
   "outputs": [],
   "source": [
    "#This is a sample code as i dont have the data yet\n",
    "import numpy as np\n",
    "data = np.loadtxt(\"C:\\Abhinav\\Course\\CN\\Downloaded NB\\Linear Regression\\data.csv\", delimiter = \",\") #by default delimiter is space\n",
    "\n",
    "#data.shape() gives (100,2)\n",
    "\n",
    "x = data[:,0].reshape(-1,1) #this is done to make it a 2d array as sklearn doesnt accept 1d array for features\n",
    "y = data[:,1]\n",
    "\n"
   ]
  },
  {
   "cell_type": "code",
   "execution_count": 9,
   "metadata": {
    "scrolled": true
   },
   "outputs": [
    {
     "name": "stdout",
     "output_type": "stream",
     "text": [
      "[1.3852036] 4.71482114249892 "
     ]
    }
   ],
   "source": [
    "from sklearn import model_selection\n",
    "x_train,x_test,y_train,y_test = model_selection.train_test_split(x,y) #75% split by default\n",
    "\n",
    "from sklearn.linear_model import LinearRegression\n",
    "#We cant use 1d features for training on this\n",
    "alg = LinearRegression()\n",
    "alg.fit(x_train,y_train)\n",
    "\n",
    "m = alg.coef_ #this gives the slope\n",
    "c = alg.intercept_ #this gives the intercept\n",
    "\n",
    "print(m,c,end = \" \")\n"
   ]
  },
  {
   "cell_type": "code",
   "execution_count": 8,
   "metadata": {},
   "outputs": [
    {
     "data": {
      "image/png": "[encoded data removed]",
      "text/plain": [
       "<Figure size 432x288 with 1 Axes>"
      ]
     },
     "metadata": {
      "needs_background": "light"
     },
     "output_type": "display_data"
    }
   ],
   "source": [
    "#Now we want to plot\n",
    "import matplotlib.pyplot as plt\n",
    "x_line = np.arange(0,100,0.1)\n",
    "y_line = x_line*m + c\n",
    "plt.scatter(x_train.reshape(75),y_train,color = \"red\")\n",
    "plt.plot(x_line,y_line,color = \"blue\")\n",
    "#plt.scatter(x_test.reshape(25),y_test,color=\"purple\")\n",
    "plt.show()"
   ]
  },
  {
   "cell_type": "code",
   "execution_count": 10,
   "metadata": {
    "scrolled": true
   },
   "outputs": [
    {
     "data": {
      "image/png": "[encoded data removed]",
      "text/plain": [
       "<Figure size 432x288 with 1 Axes>"
      ]
     },
     "metadata": {
      "needs_background": "light"
     },
     "output_type": "display_data"
    }
   ],
   "source": [
    "#plot test with line\n",
    "\n",
    "x_line = np.arange(0,100,0.1)\n",
    "y_line = x_line*m + c\n",
    "plt.plot(x_line,y_line,color = \"blue\")\n",
    "plt.scatter(x_test.reshape(25),y_test,color=\"purple\")\n",
    "plt.show()"
   ]
  },
  {
   "cell_type": "code",
   "execution_count": 11,
   "metadata": {},
   "outputs": [
    {
     "name": "stdout",
     "output_type": "stream",
     "text": [
      "0.6398973463862185\n",
      "0.41935008751845354\n"
     ]
    }
   ],
   "source": [
    "#to score our performance we will use coefficient of determination which is 1-(u/v) where u is sigma(yi(true) - yi(pred))^2 and\n",
    "# v is sigma(yi(true) - yi(mean of true))^2 , we want score to be between 0 and 1 (higher is better) .... it can be -ve as well\n",
    "#this gives 0 when we predict ymean as ypred for all predictions , as u=v in that case , best score is 1 when ypred = ytrue for all\n",
    "\n",
    "#we have a function in sklearn that gives this score automatically to us\n",
    "print(alg.score(x_train,y_train)) # this will give a value b/w 0 and 1\n",
    "print(alg.score(x_test,y_test))"
   ]
  },
  {
   "cell_type": "markdown",
   "metadata": {},
   "source": [
    "Error function or cost function , we dont use sum of errors , as positive and negative  cancel out each other ,\n",
    "for the case of sum of absolute (mod) values of errors is because linear punishment is not acceptable for huge errors , \n",
    "2 small is always better than 1 huge error which cant be seen in linear sum , hence squared error is used"
   ]
  },
  {
   "cell_type": "markdown",
   "metadata": {},
   "source": [
    "Now we will code our own Linear Regression , This will be based on the 2 formulas - \n",
    "We take derivative of the mean squared error cost function wrt m and c separately(partial derivatives), equate both of them to 0 , then calculate the values of both of them.\n",
    "we get - m = ((x*y)mean-(x)mean*(y)mean)/((x*x)mean - (x)mean*(x)mean)\n",
    "also c = (y)mean - m*(x)mean , where value of x is shown above"
   ]
  },
  {
   "cell_type": "code",
   "execution_count": 15,
   "metadata": {},
   "outputs": [],
   "source": [
    "#This is the practice problem\n",
    "import numpy as np\n",
    "data = np.loadtxt(\"C:\\Abhinav\\Course\\CN\\Downloaded NB\\Linear Regression/train.csv\", delimiter = \",\")\n",
    "#print(data.shape)\n",
    "x = data[:,0:10]\n",
    "y = data[:,10]\n",
    "from sklearn import model_selection\n",
    "x_train,x_test,y_train,y_test =  model_selection.train_test_split(x,y)"
   ]
  },
  {
   "cell_type": "code",
   "execution_count": 17,
   "metadata": {},
   "outputs": [
    {
     "name": "stdout",
     "output_type": "stream",
     "text": [
      "0.5124171389424788\n",
      "0.4659233530797943\n"
     ]
    }
   ],
   "source": [
    "from sklearn.linear_model import LinearRegression\n",
    "model = LinearRegression()\n",
    "model.fit(x_train,y_train)\n",
    "\n",
    "print(model.score(x_test,y_test))\n",
    "print(model.score(x_train,y_train))"
   ]
  }
 ],
 "metadata": {
  "kernelspec": {
   "display_name": "Python 3",
   "language": "python",
   "name": "python3"
  },
  "language_info": {
   "codemirror_mode": {
    "name": "ipython",
    "version": 3
   },
   "file_extension": ".py",
   "mimetype": "text/x-python",
   "name": "python",
   "nbconvert_exporter": "python",
   "pygments_lexer": "ipython3",
   "version": "3.7.0"
  }
 },
 "nbformat": 4,
 "nbformat_minor": 2
}
