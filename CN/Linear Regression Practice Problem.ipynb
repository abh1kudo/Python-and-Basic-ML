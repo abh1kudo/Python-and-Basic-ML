{
 "cells": [
  {
   "cell_type": "code",
   "execution_count": 1,
   "metadata": {},
   "outputs": [
    {
     "name": "stdout",
     "output_type": "stream",
     "text": [
      "(331, 11)\n"
     ]
    }
   ],
   "source": [
    "#This is the practice problem\n",
    "import numpy as np\n",
    "data = np.loadtxt(\"C:\\Abhinav\\Course\\CN\\Downloaded NB\\Linear Regression/train.csv\", delimiter = \",\")\n",
    "print(data.shape)\n"
   ]
  },
  {
   "cell_type": "code",
   "execution_count": 22,
   "metadata": {},
   "outputs": [],
   "source": [
    "x = data[:,0:10]\n",
    "y = data[:,10]\n",
    "from sklearn import model_selection\n",
    "x_train,x_test,y_train,y_test =  model_selection.train_test_split(x,y)"
   ]
  },
  {
   "cell_type": "code",
   "execution_count": 41,
   "metadata": {},
   "outputs": [
    {
     "name": "stdout",
     "output_type": "stream",
     "text": [
      "[  21.73408096 -256.66866675  569.60940087  303.63233545 -833.11088526\n",
      "  525.74313633  136.07129167  140.89458927  731.44498492   53.32119133] 150.702574894566\n",
      "0.6020293164537667\n",
      "0.45516125077539454\n"
     ]
    }
   ],
   "source": [
    "from sklearn.linear_model import LinearRegression\n",
    "model = LinearRegression()\n",
    "model.fit(x,y)\n",
    "\n",
    "m = model.coef_\n",
    "c = model.intercept_\n",
    "print(m,c)\n",
    "print(model.score(x_test,y_test))\n",
    "print(model.score(x_train,y_train))"
   ]
  },
  {
   "cell_type": "code",
   "execution_count": 42,
   "metadata": {},
   "outputs": [],
   "source": [
    "xpred = np.loadtxt(\"C:\\Abhinav\\Course\\CN\\Downloaded NB\\Linear Regression/test.csv\", delimiter = \",\")\n",
    "ypred = model.predict(xpred)\n",
    "\n"
   ]
  },
  {
   "cell_type": "code",
   "execution_count": 43,
   "metadata": {},
   "outputs": [],
   "source": [
    "np.savetxt(\"C:\\Abhinav\\Course\\CN\\Downloaded NB\\Linear Regression/output1.csv\",ypred,delimiter=\",\",fmt=\"%.5f\")"
   ]
  }
 ],
 "metadata": {
  "kernelspec": {
   "display_name": "Python 3",
   "language": "python",
   "name": "python3"
  },
  "language_info": {
   "codemirror_mode": {
    "name": "ipython",
    "version": 3
   },
   "file_extension": ".py",
   "mimetype": "text/x-python",
   "name": "python",
   "nbconvert_exporter": "python",
   "pygments_lexer": "ipython3",
   "version": "3.7.0"
  }
 },
 "nbformat": 4,
 "nbformat_minor": 2
}
