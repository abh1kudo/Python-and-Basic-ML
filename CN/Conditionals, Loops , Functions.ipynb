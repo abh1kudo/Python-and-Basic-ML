{
 "cells": [
  {
   "cell_type": "code",
   "execution_count": 4,
   "metadata": {},
   "outputs": [
    {
     "name": "stdout",
     "output_type": "stream",
     "text": [
      "<class 'bool'>\n"
     ]
    }
   ],
   "source": [
    "#boolean data types\n",
    "a = True \n",
    "print(type(a))"
   ]
  },
  {
   "cell_type": "code",
   "execution_count": 6,
   "metadata": {},
   "outputs": [
    {
     "name": "stdout",
     "output_type": "stream",
     "text": [
      "False\n"
     ]
    }
   ],
   "source": [
    "x = 5\n",
    "y = 6\n",
    "print(x > y)\n",
    "#similarly for <,>,<=,>=,==,!="
   ]
  },
  {
   "cell_type": "code",
   "execution_count": 9,
   "metadata": {},
   "outputs": [
    {
     "name": "stdout",
     "output_type": "stream",
     "text": [
      "True\n",
      "False\n"
     ]
    }
   ],
   "source": [
    "#Logical Operators\n",
    "print(5>4 and 5<6)\n",
    "print(5>4 and 5>6)"
   ]
  },
  {
   "cell_type": "code",
   "execution_count": 12,
   "metadata": {},
   "outputs": [
    {
     "name": "stdout",
     "output_type": "stream",
     "text": [
      "5\n"
     ]
    }
   ],
   "source": [
    "#if else and conditions\n",
    "x,y,z=3,5,4\n",
    "if x>=y and y>=z:\n",
    "    print (x)\n",
    "elif y>=x and y>=z:\n",
    "    print(y)\n",
    "else:\n",
    "    print(z)"
   ]
  },
  {
   "cell_type": "code",
   "execution_count": 14,
   "metadata": {},
   "outputs": [
    {
     "name": "stdout",
     "output_type": "stream",
     "text": [
      "4\n",
      "1 2 3 "
     ]
    }
   ],
   "source": [
    "#while loop\n",
    "n=int(input())\n",
    "i=1\n",
    "while (i < n):\n",
    "    print (i, end = \" \")\n",
    "    i+=1"
   ]
  },
  {
   "cell_type": "code",
   "execution_count": 22,
   "metadata": {},
   "outputs": [
    {
     "name": "stdout",
     "output_type": "stream",
     "text": [
      "4\n",
      "0 1 2 3 \n",
      "2 4 6 8 "
     ]
    }
   ],
   "source": [
    "#for\n",
    "n = int(input())\n",
    "for i in range(n):\n",
    "    print (i,end = \" \")\n",
    "print()\n",
    "for i in range(2,10,2):\n",
    "    print(i, end = \" \")"
   ]
  },
  {
   "cell_type": "code",
   "execution_count": 27,
   "metadata": {},
   "outputs": [
    {
     "name": "stdout",
     "output_type": "stream",
     "text": [
      "13\n",
      "prime\n"
     ]
    }
   ],
   "source": [
    "#prime nos\n",
    "n = int (input())\n",
    "flag = True\n",
    "for i in range (2,int(n**(0.5))):\n",
    "    if n%i==0:\n",
    "        flag = False\n",
    "        break\n",
    "if flag:\n",
    "    print(\"prime\")\n",
    "else :\n",
    "    print(\"not prime\")"
   ]
  },
  {
   "cell_type": "code",
   "execution_count": 30,
   "metadata": {},
   "outputs": [
    {
     "name": "stdout",
     "output_type": "stream",
     "text": [
      "A B C D E F \n",
      "abc 1 0.5 (2+4j) "
     ]
    }
   ],
   "source": [
    "#Fast Iteration In Strings and Tuples etc\n",
    "A = \"ABCDEF\"\n",
    "B = (\"abc\", 1 , 0.5 , 2+4j)\n",
    "for i in A:\n",
    "    print (i,end = \" \")\n",
    "print()\n",
    "for i in B:\n",
    "    print(i,end =\" \")"
   ]
  },
  {
   "cell_type": "code",
   "execution_count": 32,
   "metadata": {},
   "outputs": [
    {
     "name": "stdout",
     "output_type": "stream",
     "text": [
      "3 4 5 "
     ]
    }
   ],
   "source": [
    "a = 3\n",
    "for i in range(a):\n",
    "    print(a, end=\" \")\n",
    "    a +=1"
   ]
  },
  {
   "cell_type": "code",
   "execution_count": 33,
   "metadata": {},
   "outputs": [
    {
     "name": "stdout",
     "output_type": "stream",
     "text": [
      "abcd\n",
      "a\n",
      "a\n",
      "a\n"
     ]
    }
   ],
   "source": [
    "x = 'abcd'\n",
    "for i in range(len(x)):\n",
    "   print(x)\n",
    "   x = 'a'"
   ]
  },
  {
   "cell_type": "code",
   "execution_count": 35,
   "metadata": {},
   "outputs": [
    {
     "name": "stdout",
     "output_type": "stream",
     "text": [
      "4\n",
      "1      1\n",
      "12    21\n",
      "123  321\n",
      "12344321\n"
     ]
    }
   ],
   "source": [
    "n = int(input())\n",
    "for i in range(1,n+1):\n",
    "    for j in range(1,i+1):\n",
    "        print(j,end=\"\")\n",
    "    for j in range(1,2*n-2*i+1):\n",
    "        print(\" \",end=\"\")\n",
    "    for j in range(i,0,-1):\n",
    "        print(j,end=\"\")\n",
    "    print()"
   ]
  },
  {
   "cell_type": "code",
   "execution_count": 2,
   "metadata": {},
   "outputs": [
    {
     "name": "stdout",
     "output_type": "stream",
     "text": [
      "15\n"
     ]
    }
   ],
   "source": [
    "#function\n",
    "def fun(a, b):\n",
    "    z= a+b\n",
    "    return z\n",
    "\n",
    "print(fun(10,5))"
   ]
  },
  {
   "cell_type": "code",
   "execution_count": 5,
   "metadata": {},
   "outputs": [
    {
     "name": "stdout",
     "output_type": "stream",
     "text": [
      "32\n",
      "25\n"
     ]
    }
   ],
   "source": [
    "#default arguments\n",
    "def pow2(x,y=2):\n",
    "    return x**y\n",
    "\n",
    "b=2\n",
    "p=5\n",
    "print(pow2(b,p))\n",
    "print(pow2(5))"
   ]
  },
  {
   "cell_type": "code",
   "execution_count": 9,
   "metadata": {},
   "outputs": [
    {
     "name": "stdout",
     "output_type": "stream",
     "text": [
      "15\n",
      "10\n",
      "8\n",
      "14\n"
     ]
    }
   ],
   "source": [
    "def sumof3(a=1,b=2,c=3):\n",
    "    return a+b+c\n",
    "print(sumof3(4,5,6))\n",
    "print(sumof3(3,4))\n",
    "print(sumof3(3))\n",
    "print(sumof3(b=10))"
   ]
  },
  {
   "cell_type": "code",
   "execution_count": 11,
   "metadata": {},
   "outputs": [
    {
     "name": "stdout",
     "output_type": "stream",
     "text": [
      "<class 'tuple'>\n",
      "(10, 11, 12)\n",
      "44\n"
     ]
    }
   ],
   "source": [
    "#variable number of inputs to a function\n",
    "def varinpfun(a,b,*other):\n",
    "    print(type(other))\n",
    "    print(other)\n",
    "    sum1 = 0\n",
    "    for i in other:\n",
    "        sum1 += i\n",
    "    return a+b+sum1\n",
    "\n",
    "print(varinpfun(5,6,10,11,12))\n",
    "    "
   ]
  },
  {
   "cell_type": "code",
   "execution_count": 14,
   "metadata": {},
   "outputs": [
    {
     "name": "stdout",
     "output_type": "stream",
     "text": [
      "<class 'tuple'>\n",
      "(13, -3, 40, 0.625)\n"
     ]
    }
   ],
   "source": [
    "#returniing multiple functions\n",
    "def multretfun(a,b):\n",
    "    return a+b,a-b,a*b,a/b\n",
    "\n",
    "print(type(multretfun(5,8)))\n",
    "print(multretfun(5,8))"
   ]
  },
  {
   "cell_type": "code",
   "execution_count": 15,
   "metadata": {},
   "outputs": [
    {
     "name": "stdout",
     "output_type": "stream",
     "text": [
      "50\n"
     ]
    }
   ],
   "source": [
    "#sample try\n",
    "x = 50\n",
    "def change(x):\n",
    "     x = 2\n",
    "change(x)\n",
    "print(x)\n"
   ]
  },
  {
   "cell_type": "code",
   "execution_count": 1,
   "metadata": {},
   "outputs": [
    {
     "name": "stdout",
     "output_type": "stream",
     "text": [
      "400\n",
      "188\n"
     ]
    }
   ],
   "source": [
    "#Even Fibonacci sum\n",
    "n = int(input())\n",
    "if n == 1:\n",
    "    print(0)\n",
    "else:\n",
    "    sum1 = 0\n",
    "    t1 = 2\n",
    "    t0 = 0\n",
    "    curr = 2\n",
    "    while(curr<=n):\n",
    "        sum1 += curr\n",
    "        curr = 4*t1 + t0\n",
    "        t0 = t1\n",
    "        t1 = curr\n",
    "    print(sum1)\n",
    "        \n",
    "        "
   ]
  },
  {
   "cell_type": "code",
   "execution_count": 5,
   "metadata": {},
   "outputs": [
    {
     "name": "stdout",
     "output_type": "stream",
     "text": [
      "7\n",
      "1 \n",
      "3 2 \n",
      "4 5 6 \n",
      "10 9 8 7 \n",
      "11 12 13 14 15 \n",
      "21 20 19 18 17 16 \n",
      "22 23 24 25 26 27 28 \n"
     ]
    }
   ],
   "source": [
    "#pattern\n",
    "n = int(input())\n",
    "for i in range(1,n+1):\n",
    "    mini = ((i-1)*i)//2 + 1\n",
    "    maxi = mini + i -1\n",
    "    if i%2 == 0:\n",
    "        for j in range(maxi,mini-1,-1):\n",
    "            print(j,end=\" \")\n",
    "        print()\n",
    "    else:\n",
    "        for j in range(mini,maxi+1):\n",
    "            print(j,end=\" \")\n",
    "        print()"
   ]
  },
  {
   "cell_type": "code",
   "execution_count": 8,
   "metadata": {},
   "outputs": [
    {
     "name": "stdout",
     "output_type": "stream",
     "text": [
      "7\n",
      "111"
     ]
    }
   ],
   "source": [
    "#decimal to binary\n",
    "n = int(input())\n",
    "m = n\n",
    "a = list()\n",
    "while(m > 0):\n",
    "    a.append(m%2)\n",
    "    m//=2\n",
    "for i in range(len(a)-1,-1,-1):\n",
    "    print(a[i],end=\"\")\n"
   ]
  },
  {
   "cell_type": "code",
   "execution_count": 17,
   "metadata": {},
   "outputs": [
    {
     "name": "stdout",
     "output_type": "stream",
     "text": [
      "9\n",
      "2\n",
      "3\n",
      "5\n",
      "7\n"
     ]
    }
   ],
   "source": [
    "#sieve\n",
    "sieve = [0] * 500\n",
    "for i in range (2,500):\n",
    "    if(sieve[i]==0):\n",
    "        for j in range(2*i,500,i):\n",
    "            sieve[j]=1\n",
    "primes = list()\n",
    "for i in range(2,len(sieve)):\n",
    "    if(sieve[i]==0):\n",
    "        primes.append(i)\n",
    "n = int(input())\n",
    "for i in primes:\n",
    "    if(i <= n):\n",
    "        print(i)\n",
    "    else:\n",
    "        break"
   ]
  },
  {
   "cell_type": "code",
   "execution_count": 18,
   "metadata": {},
   "outputs": [
    {
     "name": "stdout",
     "output_type": "stream",
     "text": [
      "50\n",
      "12\n"
     ]
    }
   ],
   "source": [
    "#trailing zeroes in factorial\n",
    "n = int(input())\n",
    "num = 0\n",
    "while(n>=5):\n",
    "    num += n//5\n",
    "    n//=5\n",
    "print(num)"
   ]
  }
 ],
 "metadata": {
  "kernelspec": {
   "display_name": "Python 3",
   "language": "python",
   "name": "python3"
  },
  "language_info": {
   "codemirror_mode": {
    "name": "ipython",
    "version": 3
   },
   "file_extension": ".py",
   "mimetype": "text/x-python",
   "name": "python",
   "nbconvert_exporter": "python",
   "pygments_lexer": "ipython3",
   "version": "3.7.0"
  }
 },
 "nbformat": 4,
 "nbformat_minor": 2
}
