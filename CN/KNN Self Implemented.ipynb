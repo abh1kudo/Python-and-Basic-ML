{
 "cells": [
  {
   "cell_type": "code",
   "execution_count": 36,
   "metadata": {},
   "outputs": [],
   "source": [
    "from sklearn import datasets\n",
    "from sklearn.neighbors import KNeighborsClassifier\n",
    "from sklearn.model_selection import train_test_split\n",
    "from sklearn.model_selection import cross_val_score\n",
    "from collections import Counter"
   ]
  },
  {
   "cell_type": "code",
   "execution_count": 37,
   "metadata": {},
   "outputs": [],
   "source": [
    "db = datasets.load_breast_cancer()\n",
    "x_train, x_test, y_train, y_test = train_test_split(db.data, db.target, test_size = 0.2 , random_state = 0)"
   ]
  },
  {
   "cell_type": "code",
   "execution_count": 38,
   "metadata": {},
   "outputs": [
    {
     "data": {
      "text/plain": [
       "KNeighborsClassifier(algorithm='auto', leaf_size=30, metric='minkowski',\n",
       "           metric_params=None, n_jobs=None, n_neighbors=7, p=2,\n",
       "           weights='uniform')"
      ]
     },
     "execution_count": 38,
     "metadata": {},
     "output_type": "execute_result"
    }
   ],
   "source": [
    "algo = KNeighborsClassifier(n_neighbors = 7)\n",
    "algo.fit(x_train, y_train)"
   ]
  },
  {
   "cell_type": "code",
   "execution_count": 39,
   "metadata": {},
   "outputs": [
    {
     "data": {
      "text/plain": [
       "0.9473684210526315"
      ]
     },
     "execution_count": 39,
     "metadata": {},
     "output_type": "execute_result"
    }
   ],
   "source": [
    "algo.score(x_test, y_test)"
   ]
  },
  {
   "cell_type": "code",
   "execution_count": 42,
   "metadata": {},
   "outputs": [],
   "source": [
    "def train(X_train, Y_train):\n",
    "    return"
   ]
  },
  {
   "cell_type": "code",
   "execution_count": 43,
   "metadata": {},
   "outputs": [],
   "source": [
    "def predict_single(X_train, Y_train, x,k):\n",
    "    distance = []\n",
    "    for i in range(len(X_train)):\n",
    "        dist = ((X_train[i,:] - x)**2).sum()\n",
    "        distance.append([dist,i])\n",
    "    distance = sorted(distance)\n",
    "    finarr = []\n",
    "    for i in range(k):\n",
    "        finarr.append(y_train[distance[i][1]]) \n",
    "        #distance[i] is the ith nearest neighbor and its 0th index is the distance from test point \n",
    "        #1st index is the index in train dataset, so we want the y corresponding to that\n",
    "    return Counter(finarr).most_common(1)[0][0]"
   ]
  },
  {
   "cell_type": "code",
   "execution_count": 44,
   "metadata": {},
   "outputs": [],
   "source": [
    "def predict(X_train, Y_train, X_test, k):\n",
    "    y_pred = []\n",
    "    for x in X_test:\n",
    "        y_pred.append(predict_single(X_train,Y_train,x,k))\n",
    "    return y_pred"
   ]
  },
  {
   "cell_type": "code",
   "execution_count": 45,
   "metadata": {},
   "outputs": [
    {
     "name": "stdout",
     "output_type": "stream",
     "text": [
      "0.9473684210526315\n"
     ]
    }
   ],
   "source": [
    "y_predicted = predict(x_train,y_train,x_test,7)\n",
    "from sklearn.metrics import accuracy_score\n",
    "print(accuracy_score(y_test, y_predicted))"
   ]
  },
  {
   "cell_type": "code",
   "execution_count": 50,
   "metadata": {},
   "outputs": [
    {
     "name": "stdout",
     "output_type": "stream",
     "text": [
      "Counter({1: 7, 0: 4, 2: 2, 4: 2, 3: 2, 5: 1})\n",
      "[(1, 7), (0, 4), (2, 2), (4, 2), (3, 2)]\n",
      "1\n"
     ]
    }
   ],
   "source": [
    "#To find majority\n",
    "from collections import Counter\n",
    "a = [0,1,1,0,0,1,0,2,4,1,1,1,1,2,3,5,4,3]\n",
    "print(Counter(a))\n",
    "print(Counter(a).most_common(5))\n",
    "print(Counter(a).most_common(1)[0][0]) # Gives which value is most common , [0][1] will give count of most common"
   ]
  }
 ],
 "metadata": {
  "kernelspec": {
   "display_name": "Python 3",
   "language": "python",
   "name": "python3"
  },
  "language_info": {
   "codemirror_mode": {
    "name": "ipython",
    "version": 3
   },
   "file_extension": ".py",
   "mimetype": "text/x-python",
   "name": "python",
   "nbconvert_exporter": "python",
   "pygments_lexer": "ipython3",
   "version": "3.7.1"
  }
 },
 "nbformat": 4,
 "nbformat_minor": 2
}
