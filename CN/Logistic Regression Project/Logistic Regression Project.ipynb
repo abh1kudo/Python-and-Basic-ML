{
 "cells": [
  {
   "cell_type": "code",
   "execution_count": 25,
   "metadata": {},
   "outputs": [],
   "source": [
    "import numpy as np\n",
    "import pandas as pd\n",
    "from sklearn.linear_model import LogisticRegressionCV"
   ]
  },
  {
   "cell_type": "code",
   "execution_count": 10,
   "metadata": {},
   "outputs": [
    {
     "name": "stdout",
     "output_type": "stream",
     "text": [
      "(668, 11)\n",
      "(668, 10)\n",
      "Index(['Pclass', 'Name', 'Sex', 'Age', 'SibSp', 'Parch', 'Ticket', 'Fare',\n",
      "       'Cabin', 'Embarked', 'Survived'],\n",
      "      dtype='object')\n",
      "           Pclass         Age       SibSp       Parch        Fare    Survived\n",
      "count  668.000000  536.000000  668.000000  668.000000  668.000000  668.000000\n",
      "mean     2.296407   29.700560    0.528443    0.407186   32.064552    0.402695\n",
      "std      0.831638   14.240257    1.080327    0.854695   45.320835    0.490808\n",
      "min      1.000000    0.670000    0.000000    0.000000    0.000000    0.000000\n",
      "25%      2.000000   21.000000    0.000000    0.000000    7.925000    0.000000\n",
      "50%      3.000000   29.000000    0.000000    0.000000   14.750000    0.000000\n",
      "75%      3.000000   38.250000    1.000000    0.000000   31.275000    1.000000\n",
      "max      3.000000   80.000000    8.000000    6.000000  512.329200    1.000000\n"
     ]
    }
   ],
   "source": [
    "database = pd.read_csv(\"train.csv\")\n",
    "print(database.shape)\n",
    "x_train = database.iloc[:,:-1]\n",
    "print(x_train.shape)\n",
    "print(database.columns)\n",
    "print(database.describe())"
   ]
  },
  {
   "cell_type": "code",
   "execution_count": 15,
   "metadata": {},
   "outputs": [],
   "source": [
    "(database.isna().sum())/668\n",
    "database.drop(columns=[\"Cabin\"], inplace=True)"
   ]
  },
  {
   "cell_type": "code",
   "execution_count": 16,
   "metadata": {},
   "outputs": [
    {
     "data": {
      "text/plain": [
       "Pclass      0.000000\n",
       "Name        0.000000\n",
       "Sex         0.000000\n",
       "Age         0.197605\n",
       "SibSp       0.000000\n",
       "Parch       0.000000\n",
       "Ticket      0.000000\n",
       "Fare        0.000000\n",
       "Embarked    0.001497\n",
       "Survived    0.000000\n",
       "dtype: float64"
      ]
     },
     "execution_count": 16,
     "metadata": {},
     "output_type": "execute_result"
    }
   ],
   "source": [
    "(database.isna().sum())/668"
   ]
  },
  {
   "cell_type": "code",
   "execution_count": 34,
   "metadata": {},
   "outputs": [],
   "source": [
    "database.Age.fillna(value=database.Age.mean(),inplace=True)"
   ]
  },
  {
   "cell_type": "code",
   "execution_count": 24,
   "metadata": {},
   "outputs": [],
   "source": [
    "database.drop(columns=[\"Name\", \"Embarked\"], inplace=True)"
   ]
  },
  {
   "cell_type": "code",
   "execution_count": 30,
   "metadata": {},
   "outputs": [],
   "source": [
    "from sklearn.preprocessing import LabelEncoder\n",
    "encoder = LabelEncoder()\n",
    "database.Sex = encoder.fit_transform(database.Sex)"
   ]
  },
  {
   "cell_type": "code",
   "execution_count": 36,
   "metadata": {},
   "outputs": [
    {
     "name": "stdout",
     "output_type": "stream",
     "text": [
      "   Pclass  Sex       Age  SibSp  Parch           Ticket    Fare  Survived\n",
      "0       2    0  29.00000      1      0           228414  26.000         1\n",
      "1       3    1  29.70056      0      0         A/5 2466   8.050         0\n",
      "2       2    1  39.00000      0      0           250655  26.000         0\n",
      "3       3    0  29.00000      0      4           349909  21.075         0\n",
      "4       3    1  25.00000      0      0  SOTON/OQ 392076   7.050         0\n"
     ]
    }
   ],
   "source": [
    "print(database.head())\n",
    "database.drop(columns=[\"Ticket\"],inplace = True)"
   ]
  },
  {
   "cell_type": "code",
   "execution_count": 37,
   "metadata": {},
   "outputs": [],
   "source": [
    "x_train =database.iloc[:,:-1]\n",
    "y_train = database.iloc[:,-1]"
   ]
  },
  {
   "cell_type": "code",
   "execution_count": 38,
   "metadata": {},
   "outputs": [
    {
     "data": {
      "text/plain": [
       "LogisticRegressionCV(Cs=10, class_weight=None, cv=None, dual=False,\n",
       "           fit_intercept=True, intercept_scaling=1.0, max_iter=100,\n",
       "           multi_class='ovr', n_jobs=1, penalty='l2', random_state=None,\n",
       "           refit=True, scoring=None, solver='lbfgs', tol=0.0001, verbose=0)"
      ]
     },
     "execution_count": 38,
     "metadata": {},
     "output_type": "execute_result"
    }
   ],
   "source": [
    "algo = LogisticRegressionCV()\n",
    "algo.fit(x_train,y_train)"
   ]
  },
  {
   "cell_type": "code",
   "execution_count": 40,
   "metadata": {},
   "outputs": [
    {
     "name": "stdout",
     "output_type": "stream",
     "text": [
      "Index(['Pclass', 'Name', 'Sex', 'Age', 'SibSp', 'Parch', 'Ticket', 'Fare',\n",
      "       'Cabin', 'Embarked'],\n",
      "      dtype='object')\n"
     ]
    }
   ],
   "source": [
    "testdata = pd.read_csv(\"test.csv\")\n",
    "print(testdata.columns)\n",
    "testdata.drop(columns=[\"Name\",\"Ticket\",\"Cabin\",\"Embarked\"],inplace=True)"
   ]
  },
  {
   "cell_type": "code",
   "execution_count": 43,
   "metadata": {},
   "outputs": [
    {
     "name": "stdout",
     "output_type": "stream",
     "text": [
      "   Pclass  Sex        Age  SibSp  Parch     Fare\n",
      "0       2    1   8.000000      1      1  36.7500\n",
      "1       1    0  49.000000      0      0  25.9292\n",
      "2       3    1  29.694775      0      0   7.7375\n",
      "3       2    0  24.000000      2      1  27.0000\n",
      "4       1    1  36.000000      0      0  26.2875\n"
     ]
    }
   ],
   "source": [
    "from sklearn.preprocessing import LabelEncoder\n",
    "encoder = LabelEncoder()\n",
    "testdata.Sex = encoder.fit_transform(testdata.Sex)\n",
    "testdata.Age.fillna(value=testdata.Age.mean(),inplace = True)\n",
    "print(testdata.head())"
   ]
  },
  {
   "cell_type": "code",
   "execution_count": 51,
   "metadata": {},
   "outputs": [
    {
     "name": "stdout",
     "output_type": "stream",
     "text": [
      "(223,)\n"
     ]
    }
   ],
   "source": [
    "y_pred = algo.predict(testdata)\n",
    "print(y_pred.shape)\n",
    "np.savetxt(\"Pred.csv\",y_pred,delimiter=',',fmt=\"%.0f\")"
   ]
  }
 ],
 "metadata": {
  "kernelspec": {
   "display_name": "Python 3",
   "language": "python",
   "name": "python3"
  },
  "language_info": {
   "codemirror_mode": {
    "name": "ipython",
    "version": 3
   },
   "file_extension": ".py",
   "mimetype": "text/x-python",
   "name": "python",
   "nbconvert_exporter": "python",
   "pygments_lexer": "ipython3",
   "version": "3.7.0"
  }
 },
 "nbformat": 4,
 "nbformat_minor": 2
}
