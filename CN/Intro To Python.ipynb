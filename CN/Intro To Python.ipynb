{
 "cells": [
  {
   "cell_type": "markdown",
   "metadata": {},
   "source": [
    "## Intro To Jupyter\n",
    "We can write anything here , use dropdown from above"
   ]
  },
  {
   "cell_type": "code",
   "execution_count": 9,
   "metadata": {},
   "outputs": [
    {
     "name": "stdout",
     "output_type": "stream",
     "text": [
      "10 12\n",
      "13\n"
     ]
    }
   ],
   "source": [
    "a=10\n",
    "print (a,end=\" \")\n",
    "print (12)\n",
    "print (13)"
   ]
  },
  {
   "cell_type": "code",
   "execution_count": 12,
   "metadata": {},
   "outputs": [
    {
     "data": {
      "text/plain": [
       "15"
      ]
     },
     "execution_count": 12,
     "metadata": {},
     "output_type": "execute_result"
    }
   ],
   "source": [
    "#Last Line Will be shown as output\n",
    "a=10\n",
    "a + 5"
   ]
  },
  {
   "cell_type": "code",
   "execution_count": 17,
   "metadata": {},
   "outputs": [
    {
     "name": "stdout",
     "output_type": "stream",
     "text": [
      "<class 'int'>\n",
      "<class 'float'>\n",
      "<class 'complex'>\n"
     ]
    }
   ],
   "source": [
    "#Different numerical types\n",
    "a=10\n",
    "print(type(a))\n",
    "b=14.5\n",
    "print(type(b))\n",
    "c= 4+5j\n",
    "print(type(c))"
   ]
  },
  {
   "cell_type": "code",
   "execution_count": 19,
   "metadata": {},
   "outputs": [
    {
     "data": {
      "text/plain": [
       "'def'"
      ]
     },
     "execution_count": 19,
     "metadata": {},
     "output_type": "execute_result"
    }
   ],
   "source": [
    "#string\n",
    "xy= 'def'\n",
    "xy"
   ]
  },
  {
   "cell_type": "code",
   "execution_count": 30,
   "metadata": {},
   "outputs": [
    {
     "name": "stdout",
     "output_type": "stream",
     "text": [
      "4\n",
      "<class 'str'>\n",
      "f\n",
      "def1lll\n",
      "<class 'str'>\n"
     ]
    }
   ],
   "source": [
    "#typical string properties\n",
    "print(len(xy))\n",
    "print(type(xy))\n",
    "print(xy[2])\n",
    "#strings are immutable\n",
    "#xy[2]='a' is wrong\n",
    "xy='def1' #valid as reference is changed\n",
    "b = 'lll'\n",
    "print (xy + b)\n",
    "#string + integer is invalid\n",
    "print(type('a')) #char hota nhi"
   ]
  },
  {
   "cell_type": "code",
   "execution_count": 44,
   "metadata": {},
   "outputs": [
    {
     "name": "stdout",
     "output_type": "stream",
     "text": [
      "ABC\n",
      "ABC\n",
      "abc\n",
      "abc\n",
      "    adad    \n",
      "adad\n",
      "True\n",
      "False\n"
     ]
    }
   ],
   "source": [
    "#functions in strings\n",
    "a='abc'\n",
    "b=a.upper()\n",
    "print(a.upper())\n",
    "print (b)\n",
    "print(b.lower())\n",
    "print(a)\n",
    "c = \"    adad    \"\n",
    "print (c)\n",
    "print(c.strip())\n",
    "print(a.isalpha())\n",
    "print(c.isalpha())"
   ]
  },
  {
   "cell_type": "code",
   "execution_count": 46,
   "metadata": {},
   "outputs": [
    {
     "name": "stdout",
     "output_type": "stream",
     "text": [
      "123\n",
      "<class 'str'>\n",
      "123\n",
      "<class 'int'>\n"
     ]
    }
   ],
   "source": [
    "a = input()\n",
    "print(type(a))\n",
    "b=int(input())\n",
    "print(type(b))"
   ]
  },
  {
   "cell_type": "code",
   "execution_count": 48,
   "metadata": {},
   "outputs": [
    {
     "name": "stdout",
     "output_type": "stream",
     "text": [
      "x\n",
      "z\n",
      "x\n"
     ]
    }
   ],
   "source": [
    "#both way indexing\n",
    "a=\"xyz\"\n",
    "print(a[0])\n",
    "print(a[-1])\n",
    "print(a[-3])\n"
   ]
  },
  {
   "cell_type": "code",
   "execution_count": 54,
   "metadata": {},
   "outputs": [
    {
     "name": "stdout",
     "output_type": "stream",
     "text": [
      "yz\n",
      "xy\n",
      "yz\n",
      "xy\n",
      "xyz\n"
     ]
    }
   ],
   "source": [
    "b=a[1:3]\n",
    "print(b)\n",
    "print(a[-3:-1])\n",
    "print(a[1:])\n",
    "print(a[:2])\n",
    "print(a[:])"
   ]
  },
  {
   "cell_type": "code",
   "execution_count": 64,
   "metadata": {},
   "outputs": [
    {
     "name": "stdout",
     "output_type": "stream",
     "text": [
      "<class 'tuple'>\n",
      "2\n",
      "(1, 2)\n",
      "(3, 'abc')\n",
      "(1, 2, 3, 'abc', 666, 'abc')\n",
      "(1, 2, 3, 'abc', 1, 2, 3, 'abc')\n",
      "True\n",
      "False\n"
     ]
    }
   ],
   "source": [
    "#tuple\n",
    "t = (1,2,3,\"abc\")\n",
    "print(type(t))\n",
    "print(t[1])\n",
    "k = (666, 'abc')\n",
    "#immutable\n",
    "#different data types allowed in same tuple\n",
    "#slicing allowed\n",
    "print(t[:2])\n",
    "print(t[2:])\n",
    "print(t+k)\n",
    "print(t*2)\n",
    "print (1 in t)\n",
    "print(1 in k)"
   ]
  }
 ],
 "metadata": {
  "kernelspec": {
   "display_name": "Python 3",
   "language": "python",
   "name": "python3"
  },
  "language_info": {
   "codemirror_mode": {
    "name": "ipython",
    "version": 3
   },
   "file_extension": ".py",
   "mimetype": "text/x-python",
   "name": "python",
   "nbconvert_exporter": "python",
   "pygments_lexer": "ipython3",
   "version": "3.7.0"
  }
 },
 "nbformat": 4,
 "nbformat_minor": 2
}
